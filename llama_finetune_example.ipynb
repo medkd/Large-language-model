{
 "cells": [
  {
   "cell_type": "code",
   "execution_count": 1,
   "id": "14ab4801-5ab3-4d43-8bcf-7dcc75b22a8f",
   "metadata": {},
   "outputs": [],
   "source": [
    "import os\n",
    "import torch\n",
    "from datasets import load_dataset\n",
    "from transformers import (\n",
    "    AutoModelForCausalLM,\n",
    "    AutoTokenizer,\n",
    "    BitsAndBytesConfig,\n",
    "    HfArgumentParser,\n",
    "    TrainingArguments,\n",
    "    pipeline,\n",
    "    logging,\n",
    ")\n",
    "from peft import LoraConfig, PeftModel\n",
    "from trl import SFTTrainer"
   ]
  },
  {
   "cell_type": "code",
   "execution_count": 2,
   "id": "36e1740c",
   "metadata": {},
   "outputs": [],
   "source": [
    "compute_dtype = getattr(torch, \"float16\")\n",
    "\n",
    "quant_config = BitsAndBytesConfig(\n",
    "    load_in_4bit=True,\n",
    "    bnb_4bit_quant_type=\"nf4\",\n",
    "    bnb_4bit_compute_dtype=compute_dtype,\n",
    "    bnb_4bit_use_double_quant=False,\n",
    ")"
   ]
  },
  {
   "cell_type": "code",
   "execution_count": 3,
   "id": "b8fe3d2e",
   "metadata": {},
   "outputs": [
    {
     "data": {
      "application/vnd.jupyter.widget-view+json": {
       "model_id": "",
       "version_major": 2,
       "version_minor": 0
      },
      "text/plain": [
       "Loading checkpoint shards:   0%|          | 0/2 [00:00<?, ?it/s]"
      ]
     },
     "metadata": {},
     "output_type": "display_data"
    }
   ],
   "source": [
    "model_name = \"meta-llama/Llama-2-7b-chat-hf\"\n",
    "new_model = \"llama-2-7b-esc\"\n",
    "model = AutoModelForCausalLM.from_pretrained(\n",
    "    model_name,\n",
    "    quantization_config=quant_config,\n",
    "    device_map={\"\": 0}\n",
    ")\n",
    "model.config.use_cache = False\n",
    "model.config.pretraining_tp = 1"
   ]
  },
  {
   "cell_type": "code",
   "execution_count": 4,
   "id": "870098dc",
   "metadata": {},
   "outputs": [],
   "source": [
    "tokenizer = AutoTokenizer.from_pretrained(model_name, trust_remote_code=True)\n",
    "tokenizer.pad_token = tokenizer.eos_token\n",
    "tokenizer.padding_side = \"right\""
   ]
  },
  {
   "cell_type": "code",
   "execution_count": 5,
   "id": "d5433c29",
   "metadata": {},
   "outputs": [],
   "source": [
    "peft_params = LoraConfig(\n",
    "    lora_alpha=16,\n",
    "    lora_dropout=0.1,\n",
    "    r=64,\n",
    "    bias=\"none\",\n",
    "    task_type=\"CAUSAL_LM\",\n",
    ")"
   ]
  },
  {
   "cell_type": "code",
   "execution_count": 6,
   "id": "41eebce7",
   "metadata": {},
   "outputs": [],
   "source": [
    "training_params = TrainingArguments(\n",
    "    output_dir = \"./results\",\n",
    "    num_train_epochs = 15,\n",
    "    fp16 = False,\n",
    "    bf16 = False,\n",
    "    per_device_train_batch_size = 10,\n",
    "    per_device_eval_batch_size = 10,\n",
    "    gradient_accumulation_steps = 1,\n",
    "    gradient_checkpointing = True,\n",
    "    max_grad_norm = 0.3,\n",
    "    learning_rate = 2e-4,\n",
    "    weight_decay = 0.001,\n",
    "    optim = \"paged_adamw_32bit\",\n",
    "    lr_scheduler_type = \"linear\",\n",
    "    max_steps = -1,\n",
    "    warmup_ratio = 0.03,\n",
    "    group_by_length = True,\n",
    "    save_steps = 20,\n",
    "    logging_steps = 20,\n",
    "    report_to=\"tensorboard\", #\"all\"\n",
    "    evaluation_strategy=\"steps\",\n",
    "    eval_steps=20  # 每5部驗證\n",
    ")"
   ]
  },
  {
   "cell_type": "code",
   "execution_count": 7,
   "id": "d411aa5f",
   "metadata": {},
   "outputs": [
    {
     "name": "stdout",
     "output_type": "stream",
     "text": [
      "trainable params: 262410240 || all params: 3500412928 || trainable%: 7.496550989769399\n"
     ]
    }
   ],
   "source": [
    "def print_trainable_parameters(model):\n",
    "    trainable_params = 0\n",
    "    all_param = 0\n",
    "    for _, param in model.named_parameters():\n",
    "        all_param += param.numel()\n",
    "        if param.requires_grad:\n",
    "            trainable_params += param.numel()\n",
    "    print(\n",
    "        f\"trainable params: {trainable_params} || all params: {all_param} || trainable%: {100 * trainable_params / all_param}\"\n",
    "    )\n",
    "    \n",
    "\n",
    "print_trainable_parameters(model)"
   ]
  },
  {
   "cell_type": "code",
   "execution_count": null,
   "id": "080f53f3",
   "metadata": {},
   "outputs": [],
   "source": []
  },
  {
   "cell_type": "code",
   "execution_count": 12,
   "id": "2fb2cfae",
   "metadata": {},
   "outputs": [],
   "source": [
    "def format_dialogue_prompt(messages):\n",
    "    # 定義特殊標記\n",
    "    INST_START, INST_END = \"[INST]\", \"[/INST]\"\n",
    "    \n",
    "    BOS, EOS = \"<s>\", \"</s>\"\n",
    "\n",
    "    # 在對話開始處添加系統提示\n",
    "    system_instruct = f'{BOS}{INST_START}'\n",
    "\n",
    "    context = []\n",
    "    context_cnt = 0  \n",
    "\n",
    "    for message in messages:\n",
    "        role = message['role']\n",
    "\n",
    "        if context_cnt % 2 == 0 and role == 'user':\n",
    "            content = message['content']\n",
    "            context.append(f'{content} {INST_END}')\n",
    "        elif context_cnt % 2 == 1 and role == 'assistant':\n",
    "            content = message['content']\n",
    "            context.append(f' {content} {EOS}{BOS}{INST_START} ')\n",
    "        else:\n",
    "            raise ValueError(\"Input order of roles is incorrect; input must be 'user' followed by 'assistant'.\")\n",
    "\n",
    "        context_cnt += 1  \n",
    "\n",
    "    # 組合對話提示\n",
    "    output = system_instruct + \"\".join(context)\n",
    "\n",
    "    # 如果結尾不是assistant，返回完整的prompt\n",
    "    if role != 'assistant':\n",
    "        return output\n",
    "    else:\n",
    "        return output[:-len(BOS + INST_START)-1]"
   ]
  },
  {
   "cell_type": "code",
   "execution_count": null,
   "id": "9da4f339",
   "metadata": {},
   "outputs": [],
   "source": []
  },
  {
   "cell_type": "code",
   "execution_count": 13,
   "id": "ab9350c5",
   "metadata": {},
   "outputs": [],
   "source": [
    "import pandas as pd"
   ]
  },
  {
   "cell_type": "code",
   "execution_count": 14,
   "id": "647cb24a",
   "metadata": {},
   "outputs": [],
   "source": [
    "df = pd.read_excel('dataset.xlsx')"
   ]
  },
  {
   "cell_type": "code",
   "execution_count": 15,
   "id": "11ae2130-cfa1-4b2b-92df-ed59d6814529",
   "metadata": {},
   "outputs": [
    {
     "data": {
      "text/html": [
       "<div>\n",
       "<style scoped>\n",
       "    .dataframe tbody tr th:only-of-type {\n",
       "        vertical-align: middle;\n",
       "    }\n",
       "\n",
       "    .dataframe tbody tr th {\n",
       "        vertical-align: top;\n",
       "    }\n",
       "\n",
       "    .dataframe thead th {\n",
       "        text-align: right;\n",
       "    }\n",
       "</style>\n",
       "<table border=\"1\" class=\"dataframe\">\n",
       "  <thead>\n",
       "    <tr style=\"text-align: right;\">\n",
       "      <th></th>\n",
       "      <th>Unnamed: 0</th>\n",
       "      <th>year</th>\n",
       "      <th>class</th>\n",
       "      <th>prompt</th>\n",
       "      <th>response</th>\n",
       "    </tr>\n",
       "  </thead>\n",
       "  <tbody>\n",
       "    <tr>\n",
       "      <th>0</th>\n",
       "      <td>1</td>\n",
       "      <td>2022</td>\n",
       "      <td>Hypertension</td>\n",
       "      <td>What is the new definition of hypertension in ...</td>\n",
       "      <td>Hypertension is now defined as a blood pressur...</td>\n",
       "    </tr>\n",
       "    <tr>\n",
       "      <th>1</th>\n",
       "      <td>2</td>\n",
       "      <td>2022</td>\n",
       "      <td>Hypertension</td>\n",
       "      <td>What blood pressure targets are set for hypert...</td>\n",
       "      <td>The universal blood pressure target recommende...</td>\n",
       "    </tr>\n",
       "    <tr>\n",
       "      <th>2</th>\n",
       "      <td>3</td>\n",
       "      <td>2022</td>\n",
       "      <td>Hypertension</td>\n",
       "      <td>Can you explain the 722 protocol for Home Bloo...</td>\n",
       "      <td>The 722 protocol involves taking duplicate BP ...</td>\n",
       "    </tr>\n",
       "    <tr>\n",
       "      <th>3</th>\n",
       "      <td>4</td>\n",
       "      <td>2022</td>\n",
       "      <td>Hypertension</td>\n",
       "      <td>What lifestyle changes are advised for managin...</td>\n",
       "      <td>Lifestyle modifications suggested include sodi...</td>\n",
       "    </tr>\n",
       "    <tr>\n",
       "      <th>4</th>\n",
       "      <td>5</td>\n",
       "      <td>2022</td>\n",
       "      <td>Hypertension</td>\n",
       "      <td>What are the first-line drugs recommended for ...</td>\n",
       "      <td>The recommended first-line antihypertensive dr...</td>\n",
       "    </tr>\n",
       "  </tbody>\n",
       "</table>\n",
       "</div>"
      ],
      "text/plain": [
       "   Unnamed: 0  year         class  \\\n",
       "0           1  2022  Hypertension   \n",
       "1           2  2022  Hypertension   \n",
       "2           3  2022  Hypertension   \n",
       "3           4  2022  Hypertension   \n",
       "4           5  2022  Hypertension   \n",
       "\n",
       "                                              prompt  \\\n",
       "0  What is the new definition of hypertension in ...   \n",
       "1  What blood pressure targets are set for hypert...   \n",
       "2  Can you explain the 722 protocol for Home Bloo...   \n",
       "3  What lifestyle changes are advised for managin...   \n",
       "4  What are the first-line drugs recommended for ...   \n",
       "\n",
       "                                            response  \n",
       "0  Hypertension is now defined as a blood pressur...  \n",
       "1  The universal blood pressure target recommende...  \n",
       "2  The 722 protocol involves taking duplicate BP ...  \n",
       "3  Lifestyle modifications suggested include sodi...  \n",
       "4  The recommended first-line antihypertensive dr...  "
      ]
     },
     "execution_count": 15,
     "metadata": {},
     "output_type": "execute_result"
    }
   ],
   "source": [
    "df.head()"
   ]
  },
  {
   "cell_type": "code",
   "execution_count": 16,
   "id": "cfd4e995-60fc-4d76-a5c2-6bd6d5110b80",
   "metadata": {},
   "outputs": [],
   "source": [
    "# 先測試100個\n",
    "import pandas as pd \n",
    "from sklearn.model_selection import train_test_split\n",
    "\n",
    "df = pd.read_excel('dataset.xlsx').values[:]\n",
    "qa_data = []\n",
    "for _,_,_,question, answer in df:\n",
    "    qa = [{'role':'user', 'content': f'{question}'}, {'role':'assistant', 'content': f'{answer}'}]\n",
    "    qa_data.append(format_dialogue_prompt(qa))\n",
    "    \n",
    "x_train, x_valid = train_test_split(qa_data, train_size=0.9, random_state=46, shuffle=True)"
   ]
  },
  {
   "cell_type": "code",
   "execution_count": 17,
   "id": "6615c663",
   "metadata": {},
   "outputs": [],
   "source": [
    "train_dict_ = {'text':x_train}\n",
    "df_train = pd.DataFrame(train_dict_)"
   ]
  },
  {
   "cell_type": "code",
   "execution_count": 18,
   "id": "984a5b56",
   "metadata": {},
   "outputs": [
    {
     "data": {
      "text/plain": [
       "{'text': ['<s>[INST]What is the significance of early mobilization in ACS management? [/INST] Early mobilization as part of the recovery process helps in assessing patient stability, reducing hospital stay, and improving overall recovery. </s>',\n",
       "  '<s>[INST]What are the key messages regarding secondary hypertension? [/INST] Key messages include the importance of identifying underlying causes of secondary hypertension, such as kidney disease or hormonal disorders, which may require specific treatments. </s>',\n",
       "  '<s>[INST]What is the importance of revascularization in ACS? [/INST] Revascularization, either by PCI or surgery, is crucial for restoring blood flow to the heart muscle affected by a blocked artery. </s>',\n",
       "  '<s>[INST]What role do statins play in ACS management? [/INST] Statins are critical for lowering cholesterol levels, stabilizing plaque, and reducing the risk of subsequent cardiac events. </s>',\n",
       "  '<s>[INST]What are the main challenges in managing CCS as identified in the guidelines? [/INST] Challenges include diagnosing the severity and extent of coronary disease, managing mixed symptomatic and asymptomatic phases, and integrating new research findings into clinical practice effectively. </s>',\n",
       "  '<s>[INST]What are the guidelines for using beta-blockers in ACS? [/INST] Beta-blockers are recommended to reduce heart rate, decrease myocardial oxygen demand, and improve survival, especially if started early. </s>',\n",
       "  '<s>[INST]What specific advice is provided for managing hypertension in elderly patients? [/INST] The guidelines emphasize the importance of careful blood pressure control in elderly patients, balancing the risks of overtreatment with the benefits of reaching blood pressure targets. </s>',\n",
       "  '<s>[INST]How is Chronic Coronary Syndrome (CCS) defined? [/INST] CCS replaces the previous terms \"stable coronary artery disease\" or \"stable angina,\" highlighting that the condition can fluctuate in severity and is not always stable. </s>',\n",
       "  '<s>[INST]What is the new understanding of Coronary Artery Disease (CAD) in the 2023 guidelines? [/INST] The 2023 guidelines introduce a distinction between Acute Coronary Syndromes (ACS) and Chronic Coronary Syndromes (CCS), emphasizing that coronary artery disease is a dynamic and continuous process. </s>',\n",
       "  '<s>[INST]What recommendations are made regarding antihypertensive drug withdrawal? [/INST] The guidelines suggest that antihypertensive drug withdrawal be considered carefully, under medical supervision, especially in patients who have achieved stable and optimal blood pressure control over an extended period. </s>',\n",
       "  '<s>[INST]How are complications like cardiogenic shock handled in ACS? [/INST] Cardiogenic shock requires immediate management with medications to improve heart function and procedures to promptly restore blood flow to the heart. </s>',\n",
       "  '<s>[INST]What is the guidance on dual antiplatelet therapy in diabetic patients? [/INST] Dual antiplatelet therapy is advised for a limited duration after coronary stenting to reduce the risk of stent thrombosis, balancing the benefit with the risk of bleeding. </s>',\n",
       "  '<s>[INST]What are the key points regarding risk factor control in the new guidelines? [/INST] The guidelines advocate for a detailed and personalized approach to managing risk factors such as lipid levels, blood pressure, and lifestyle factors to prevent the progression of CCS. </s>',\n",
       "  '<s>[INST]What specific advice does the guideline provide for the treatment of heart failure in diabetic patients? [/INST] The guidelines recommend the use of SGLT2 inhibitors for all diabetic patients with heart failure to reduce hospitalizations and cardiovascular death, regardless of the ejection fraction. </s>',\n",
       "  '<s>[INST]How is atrial fibrillation approached in patients undergoing surgery? [/INST] The guidelines provide strategies for managing atrial fibrillation that occurs during non-cardiac illness or as a result of surgery. </s>',\n",
       "  '<s>[INST]How are different blood pressure measurement methods compared in the guidelines? [/INST] The guidelines highlight the superiority of HBPM over routine office BP measurements, noting that standardized office measurements often do not reflect real-world conditions. </s>',\n",
       "  '<s>[INST]What are the key medications used in the treatment of ACS? [/INST] Key medications include antiplatelet agents (e.g., aspirin, P2Y12 inhibitors), anticoagulants, beta-blockers, ACE inhibitors, and statins. </s>',\n",
       "  '<s>[INST]How should atrial fibrillation be managed in patients with heart failure? [/INST] The guidelines recommend specific management strategies for atrial fibrillation in patients with heart failure, taking into account the reduced ejection fraction. </s>',\n",
       "  '<s>[INST]When is coronary artery bypass grafting (CABG) preferred over PCI? [/INST] CABG is often preferred in cases of complex coronary artery disease, especially when multiple large arteries are blocked. </s>',\n",
       "  '<s>[INST]How does the guideline address resistant hypertension? [/INST] For resistant hypertension, the guidelines recommend re-evaluating the diagnosis, checking for adherence, considering secondary causes, and possibly escalating therapy or using alternative strategies like renal denervation. </s>',\n",
       "  '<s>[INST]What is the recommended management for NSTEMI? [/INST] Management of NSTEMI typically involves medication to stabilize the condition, followed by diagnostic evaluation and possibly coronary angiography to determine the need for revascularization. </s>',\n",
       "  '<s>[INST]What are the first-line drugs recommended for the treatment of hypertension? [/INST] The recommended first-line antihypertensive drugs include angiotensin-converting enzyme inhibitors, angiotensin receptor blockers, β-blockers, calcium-channel blockers, and thiazide diuretics. </s>',\n",
       "  '<s>[INST]What considerations are given for atrial fibrillation management in athletes? [/INST] Special considerations are outlined for managing atrial fibrillation in athletes, including the impacts of high-intensity sports and exercise. </s>',\n",
       "  '<s>[INST]What new tool is introduced in the 2023 guidelines for assessing cardiovascular risk in diabetic patients? [/INST] The guidelines introduce SCORE2-Diabetes, a tool specifically designed to estimate the 10-year cardiovascular risk in patients with type 2 diabetes without apparent cardiovascular disease. </s>',\n",
       "  '<s>[INST]What are the implications of new findings on coronary atherosclerosis? [/INST] Recent discoveries indicate that coronary atherosclerosis and its characteristics are critical diagnostic and therapeutic targets, shifting focus from merely evaluating coronary ischemia to considering the anatomic burden of disease. </s>',\n",
       "  '<s>[INST]What advice does the guideline give for managing diabetes in patients with acute coronary syndromes? [/INST] It recommends immediate and effective glycemic control using insulin or other agents to stabilize the patient while avoiding hypoglycemia. </s>',\n",
       "  '<s>[INST]How does the guideline propose using technology in atrial fibrillation management? [/INST] It emphasizes the use of modern monitoring tools, including wearable devices, for detecting and managing atrial fibrillation. </s>',\n",
       "  '<s>[INST]What does the guideline say about hypertension in children and adolescents? [/INST] While the main focus is on adults, the guidelines acknowledge the rising incidence of hypertension in younger populations and stress the importance of early lifestyle interventions. </s>',\n",
       "  '<s>[INST]What are the different types of ACS? [/INST] The types of ACS include ST-segment Elevation Myocardial Infarction (STEMI), Non-ST-segment Elevation Myocardial Infarction (NSTEMI), and Unstable Angina. </s>',\n",
       "  '<s>[INST]What is the significance of renal denervation in the guidelines? [/INST] Renal denervation is considered as an alternative treatment strategy for lowering blood pressure after careful clinical and imaging evaluations have confirmed its appropriateness. </s>',\n",
       "  '<s>[INST]How should STEMI be managed? [/INST] STEMI should be treated primarily with percutaneous coronary intervention (PCI) as soon as possible or, if not available, with thrombolytic therapy. </s>',\n",
       "  '<s>[INST]What preventive strategies are highlighted for CCS? [/INST] Preventive strategies include aggressive management of cardiovascular risk factors, use of evidence-based pharmacotherapy, and lifestyle modifications. </s>',\n",
       "  '<s>[INST]What is the role of risk stratification in ACS? [/INST] Risk stratification helps to identify the severity of the condition and guides the urgency and type of treatment needed, particularly deciding between conservative management or the need for invasive procedures. </s>',\n",
       "  '<s>[INST]When is combination therapy recommended in hypertension management? [/INST] Combination therapy, preferably in a single-pill combination, is recommended for patients whose blood pressure is ≥ 20/10 mmHg above the target. </s>',\n",
       "  '<s>[INST]How are emergent CCS cases to be handled according to the guidelines? [/INST] The guidelines stress the importance of immediate and appropriate medical response to acute symptoms suggestive of evolving coronary events in CCS patients. </s>',\n",
       "  \"<s>[INST]What are the key updates regarding the management of device-detected atrial fibrillation? [/INST] The guidelines provide more prescriptive recommendations for managing device-detected atrial fibrillation, considering episode duration and the patient's thromboembolic risk. </s>\",\n",
       "  '<s>[INST]What lifestyle changes are advised for managing high blood pressure? [/INST] Lifestyle modifications suggested include sodium restriction, alcohol limitation, body weight reduction, cigarette smoking cessation, diet adaptation to include more fruits and vegetables, and regular physical exercise. These are encapsulated in the mnemonic S-ABCDE. </s>',\n",
       "  '<s>[INST]What factors influence the duration of DAPT? [/INST] The duration of DAPT is influenced by the balance between the risk of bleeding and the risk of thrombotic events, patient-specific factors, and the type of stents used in PCI. </s>',\n",
       "  '<s>[INST]What are the guidelines on using GLP-1 receptor agonists in diabetic patients? [/INST] GLP-1 receptor agonists are recommended for diabetic patients with atherosclerotic cardiovascular disease to improve glycemic control and reduce cardiovascular risk. </s>',\n",
       "  '<s>[INST]What preventive measures does the guideline recommend for diabetic patients to reduce cardiovascular risk? [/INST] Preventive measures include aggressive control of blood pressure, lipids, and glucose levels, along with lifestyle modifications. </s>',\n",
       "  '<s>[INST]What lifestyle modifications are recommended post-ACS? [/INST] Recommended modifications include quitting smoking, engaging in regular physical activity, adopting a heart-healthy diet, and managing stress. </s>',\n",
       "  '<s>[INST]What are the recommended strategies for patients who do not meet blood pressure targets? [/INST] For patients not meeting targets, the guidelines recommend reassessing treatment adherence, potential lifestyle factors, and possibly adjusting medication, including the use of combination therapies or increasing dosages. </s>',\n",
       "  '<s>[INST]What role does optimal medical therapy play according to the guidelines? [/INST] Optimal medical therapy is central in managing patients with CCS, aiming at prevention and symptom control. </s>',\n",
       "  '<s>[INST]Why is Home Blood Pressure Monitoring (HBPM) preferred over office BP measurements? [/INST] HBPM is preferred due to its ease of use, reproducibility, and strong correlation with hypertension-mediated organ damage (HMOD) and cardiovascular events. </s>',\n",
       "  '<s>[INST]What role does genetic testing play in the management of atrial fibrillation according to the guidelines? [/INST] Genetic testing is considered for early onset atrial fibrillation to help tailor management strategies. </s>',\n",
       "  '<s>[INST]What is the new definition of hypertension in the 2022 guidelines? [/INST] Hypertension is now defined as a blood pressure of ≥ 130/80 mmHg based on standardized Home Blood Pressure Monitoring (HBPM) according to the 722 protocol. </s>',\n",
       "  '<s>[INST]How do the guidelines address the management of CCS in diverse patient populations? [/INST] The guidelines recommend considering individual patient factors such as age, comorbidities, and personal risk factors when planning treatment, emphasizing personalized care. </s>',\n",
       "  '<s>[INST]What role does glycemic control play in cardiovascular risk management according to the guidelines? [/INST] Tight glycemic control using medications with proven cardiovascular benefits is recommended to reduce the risk of coronary artery disease over the long term. </s>',\n",
       "  '<s>[INST]What lifestyle interventions are emphasized for diabetic patients in the guidelines? [/INST] The guidelines stress the importance of weight management, increased physical activity, dietary changes, and smoking cessation to manage both diabetes and reduce cardiovascular risk. </s>',\n",
       "  '<s>[INST]What is the approach to hypertensive patients with diabetes? [/INST] Hypertensive patients with diabetes should aim for stricter blood pressure control, often requiring multiple medications to minimize the risk of cardiovascular and renal complications. </s>',\n",
       "  '<s>[INST]What follow-up care is recommended for ACS patients? [/INST] Follow-up care typically involves regular check-ups with a cardiologist, ongoing medication adjustment, and participation in cardiac rehabilitation. </s>',\n",
       "  '<s>[INST]What new classification system is introduced for atrial fibrillation in the 2023 guidelines? [/INST] The new guidelines introduce a classification system that views atrial fibrillation as a disease continuum, necessitating varied strategies at different stages—from prevention and lifestyle modification to therapy. </s>',\n",
       "  '<s>[INST]How are left atrial appendage occlusion devices viewed in the new guidelines? [/INST] The guidelines upgrade the Class of Recommendation for left atrial appendage occlusion devices, reflecting new data on their safety and efficacy. </s>',\n",
       "  '<s>[INST]How does the guideline suggest using clinical risk scores for stroke prediction? [/INST] The guidelines recommend using validated clinical risk scores like CHA2DS2-VASc to guide anticoagulation decisions, with flexibility to incorporate other risk variables or scores to aid in shared decision-making. </s>',\n",
       "  '<s>[INST]How should lipid levels be managed in diabetic patients according to the guidelines? [/INST] The guidelines recommend intensive low-density lipoprotein cholesterol-lowering using statins or a combination of statins and ezetimibe, especially in patients at very high cardiovascular risk. </s>',\n",
       "  '<s>[INST]What lifestyle modifications does the guideline recommend for managing atrial fibrillation? [/INST] Recommended lifestyle changes include managing obesity, physical activity, smoking cessation, alcohol moderation, and controlling hypertension. </s>',\n",
       "  '<s>[INST]What future research directions does the guideline identify? [/INST] The guideline notes the need for ongoing research to continue improving the understanding and management of atrial fibrillation, particularly in underrepresented populations and those with multiple comorbid conditions. It calls for more personalized approaches to treatment, better integration of technology and data analytics, and enhanced strategies for risk prediction and management. </s>',\n",
       "  '<s>[INST]Are there specific recommendations for hypertension management in women, especially during pregnancy? [/INST] Yes, the guidelines provide specific recommendations for managing hypertension in pregnant women, including close monitoring and the use of safe antihypertensives to avoid complications. </s>',\n",
       "  '<s>[INST]What is recommended for managing blood pressure in diabetic patients according to the 2023 guidelines? [/INST] Regular blood pressure measurements are recommended to detect and treat hypertension early, reducing cardiovascular risk. </s>',\n",
       "  '<s>[INST]What is the recommended approach for managing patients with CCS? [/INST] The guidelines emphasize optimizing control of risk factors through preventive measures and reserve invasive strategies for patients with refractory symptoms or high-risk features. </s>',\n",
       "  '<s>[INST]What is the recommended approach for early rhythm control in atrial fibrillation? [/INST] The guideline emphasizes the importance of early and continued management of atrial fibrillation that focuses on maintaining sinus rhythm and minimizing atrial fibrillation burden. </s>',\n",
       "  '<s>[INST]How are SGLT2 inhibitors positioned in the treatment of diabetic patients with cardiovascular disease? [/INST] SGLT2 inhibitors are recommended for patients with type 2 diabetes and established atherosclerotic cardiovascular disease or heart failure to reduce the risk of cardiovascular events and hospitalization. </s>',\n",
       "  '<s>[INST]How has the approach to invasive strategies changed? [/INST] Invasive strategies should not be the initial approach for improving mortality or myocardial infarction risk and should be limited to patients with specific high-risk conditions. </s>',\n",
       "  '<s>[INST]What blood pressure targets are set for hypertensive patients? [/INST] The universal blood pressure target recommended for all hypertensive patients is less than 130/80 mmHg. </s>',\n",
       "  '<s>[INST]How are novel diabetes therapies like SGLT2 inhibitors and GLP-1 receptor agonists positioned in the treatment algorithm? [/INST] These therapies are prioritized for their additional cardiovascular benefits beyond glucose control, recommended for all eligible diabetic patients with existing cardiovascular disease. </s>',\n",
       "  '<s>[INST]What is the importance of patient-centered care in managing atrial fibrillation as per the guidelines? [/INST] The guidelines advocate for shared decision-making, emphasizing that management should align with patient preferences and specific clinical contexts. </s>',\n",
       "  '<s>[INST]What advancements are noted in rhythm control strategies? [/INST] The guidelines highlight the roles of both electrical and pharmacological cardioversion in achieving and maintaining sinus rhythm. </s>',\n",
       "  '<s>[INST]How does dual antiplatelet therapy (DAPT) work in the context of ACS? [/INST] DAPT, involving aspirin and a P2Y12 inhibitor, is used to prevent blood clots, reducing the risk of another cardiac event. </s>',\n",
       "  '<s>[INST]How does the guideline address anticoagulation in specific populations? [/INST] It includes detailed recommendations for anticoagulation in various specific conditions such as ACS, chronic coronary disease, peripheral artery disease, and chronic kidney disease. </s>',\n",
       "  '<s>[INST]What changes are there in the recommendations for catheter ablation of atrial fibrillation? [/INST] Catheter ablation receives a Class 1 indication as a first-line therapy in selected patients, reflecting recent evidence supporting its effectiveness over drug therapy for rhythm control. </s>',\n",
       "  \"<s>[INST]What is the guideline's stance on rate control for atrial fibrillation? [/INST] It provides comprehensive recommendations for selecting pharmacological agents for rate control, emphasizing individualized patient care. </s>\",\n",
       "  '<s>[INST]What are the lifestyle modifications recommended for CCS patients? [/INST] Lifestyle changes such as smoking cessation, regular physical activity, and dietary adjustments are emphasized for all patients with CCS. </s>',\n",
       "  '<s>[INST]What is the impact of these guidelines on clinical practice for managing diabetic patients with cardiovascular disease? [/INST] The guidelines aim to improve outcomes by providing evidence-based recommendations for comprehensive cardiovascular and glycemic management, emphasizing a multidisciplinary approach to patient care. </s>',\n",
       "  '<s>[INST]How are emerging therapies impacting the management of ACS? [/INST] Emerging therapies, including new drugs and advanced interventional techniques, continue to improve outcomes and provide options for patients who are not candidates for traditional treatments. </s>',\n",
       "  '<s>[INST]What diagnostic advancements are highlighted for CCS in the guidelines? [/INST] Coronary Computed Tomographic Angiography (CCTA) is increasingly used for both obstructive and non-obstructive coronary plaques, providing a more detailed risk assessment. </s>',\n",
       "  '<s>[INST]How is patient education part of ACS management? [/INST] Patient education on recognizing symptoms, medication adherence, and lifestyle changes is vital for managing risks and preventing recurrence. </s>',\n",
       "  \"<s>[INST]How is the concept of 'stable CAD' addressed in the guidelines? [/INST] The term 'stable CAD' is now considered misleading as it understates the ongoing risk of acute events, hence the shift towards using CCS to describe the condition more accurately. </s>\",\n",
       "  '<s>[INST]What is the significance of the 722 protocol in these guidelines? [/INST] The 722 protocol is not mentioned in this guideline; it relates to hypertension guidelines for blood pressure monitoring. </s>',\n",
       "  '<s>[INST]What is the recommended approach to managing chronic kidney disease in diabetic patients? [/INST] The guidelines advocate for the use of SGLT2 inhibitors or finerenone in addition to standard care to reduce cardiovascular and renal outcomes in diabetic patients with chronic kidney disease. </s>',\n",
       "  '<s>[INST]Can you explain the 722 protocol for Home Blood Pressure Monitoring (HBPM)? [/INST] The 722 protocol involves taking duplicate BP readings per occasion (“2”), twice daily (“2”), over seven consecutive days (“7”). This method is intended to provide a reliable and accurate assessment of an individual’s blood pressure. </s>',\n",
       "  '<s>[INST]What are the primary goals of the 2023 AHA Guidelines for managing atrial fibrillation? [/INST] The primary goals are to provide recommendations to guide clinicians in the treatment of patients with atrial fibrillation, focusing on prevention, risk factor modification, and individualized patient care strategies. </s>',\n",
       "  '<s>[INST]What are the first-line recommended diagnostic tests for CCS? [/INST] CCTA is recommended as a first-line diagnostic test, given its ability to detect and evaluate both obstructive and non-obstructive plaques. </s>',\n",
       "  '<s>[INST]What is the main focus of the 2023 ESC Guidelines for cardiovascular disease in patients with diabetes? [/INST] The guidelines focus on the prevention and management of cardiovascular manifestations in patients with diabetes, based on the latest evidence available up to January 2023. </s>',\n",
       "  '<s>[INST]How does the guideline address anticoagulation in diabetic patients with cardiovascular disease? [/INST] Anticoagulation therapy should be carefully managed in diabetic patients, especially those undergoing percutaneous coronary interventions, to balance the risks of thrombosis and bleeding. </s>',\n",
       "  '<s>[INST]How does the guideline integrate new research findings into its recommendations? [/INST] The guidelines incorporate recent research, including studies on blood pressure targets and the benefits of various treatment strategies, to update and refine recommendations. </s>',\n",
       "  '<s>[INST]What future directions or research does the guideline suggest? [/INST] It calls for ongoing research into the optimal management of hypertension, including comparative studies of different treatment approaches and the development of new therapeutic agents. </s>',\n",
       "  '<s>[INST]What is the role of imaging tests in the follow-up of ACS patients? [/INST] Imaging tests like stress tests, echocardiograms, and sometimes cardiac MRIs are used to assess heart function and guide ongoing treatment. </s>',\n",
       "  '<s>[INST]What defines acute coronary syndromes (ACS)? [/INST] ACS are conditions caused by a sudden reduction in blood flow to the heart, typically leading to chest pain or discomfort which might be acute and severe. </s>',\n",
       "  '<s>[INST]How are antiplatelet therapies addressed in the guidelines for diabetic patients? [/INST] Antiplatelet therapy, primarily using aspirin and P2Y12 inhibitors, is recommended for diabetic patients with atherosclerotic cardiovascular disease to prevent thrombotic events. </s>',\n",
       "  '<s>[INST]How does the guideline recommend screening for diabetes in patients with cardiovascular disease? [/INST] The guidelines recommend systematic screening for diabetes in all patients with cardiovascular disease due to the high prevalence and significant overlap between the two conditions. </s>']}"
      ]
     },
     "execution_count": 18,
     "metadata": {},
     "output_type": "execute_result"
    }
   ],
   "source": [
    "train_dict_"
   ]
  },
  {
   "cell_type": "code",
   "execution_count": 19,
   "id": "84c5e09b",
   "metadata": {},
   "outputs": [],
   "source": [
    "df_train.to_csv('train.csv')"
   ]
  },
  {
   "cell_type": "code",
   "execution_count": 20,
   "id": "811e2083",
   "metadata": {},
   "outputs": [
    {
     "data": {
      "application/vnd.jupyter.widget-view+json": {
       "model_id": "632f8ffea93f40a6ad3e6c1fb27ee1b3",
       "version_major": 2,
       "version_minor": 0
      },
      "text/plain": [
       "Generating train split: 0 examples [00:00, ? examples/s]"
      ]
     },
     "metadata": {},
     "output_type": "display_data"
    }
   ],
   "source": [
    "train_dataset = load_dataset('csv',data_files=\"train.csv\", split = 'train')"
   ]
  },
  {
   "cell_type": "code",
   "execution_count": 21,
   "id": "d123d036",
   "metadata": {},
   "outputs": [
    {
     "data": {
      "text/plain": [
       "Dataset({\n",
       "    features: ['Unnamed: 0', 'text'],\n",
       "    num_rows: 90\n",
       "})"
      ]
     },
     "execution_count": 21,
     "metadata": {},
     "output_type": "execute_result"
    }
   ],
   "source": [
    "train_dataset"
   ]
  },
  {
   "cell_type": "code",
   "execution_count": 22,
   "id": "f1560659",
   "metadata": {},
   "outputs": [
    {
     "data": {
      "application/vnd.jupyter.widget-view+json": {
       "model_id": "748cb8b1411b4a4a9b527889725fc38f",
       "version_major": 2,
       "version_minor": 0
      },
      "text/plain": [
       "Generating train split: 0 examples [00:00, ? examples/s]"
      ]
     },
     "metadata": {},
     "output_type": "display_data"
    }
   ],
   "source": [
    "test_dict_ = {'text':x_valid}\n",
    "df_text = pd.DataFrame(test_dict_)\n",
    "df_text.to_csv('test.csv')\n",
    "test_dataset = load_dataset('csv',data_files=\"test.csv\", split = 'train')"
   ]
  },
  {
   "cell_type": "code",
   "execution_count": 23,
   "id": "c2dd2e0d",
   "metadata": {},
   "outputs": [
    {
     "data": {
      "text/plain": [
       "Dataset({\n",
       "    features: ['Unnamed: 0', 'text'],\n",
       "    num_rows: 10\n",
       "})"
      ]
     },
     "execution_count": 23,
     "metadata": {},
     "output_type": "execute_result"
    }
   ],
   "source": [
    "test_dataset"
   ]
  },
  {
   "cell_type": "code",
   "execution_count": 23,
   "id": "848ebefb",
   "metadata": {},
   "outputs": [
    {
     "name": "stdout",
     "output_type": "stream",
     "text": [
      "[INST] How does the guideline suggest using clinical risk scores for stroke prediction? [/INST]  The guideline suggests using clinical risk scores for stroke prediction by providing the following recommendations:\n",
      " Hinweis 1: Use clinical risk scores to estimate the probability of stroke in individuals with acute neurological symptoms.\n",
      "\n",
      "* Clinical risk scores, such as the National Institutes of Health Stroke Scale (NIHSS) or the ABCD2 score, can estimate the probability of stroke in individuals with acute neurological symptoms.\n",
      "* These scores take into account various factors, such as age, gender, history of stroke or TIA, and the presence of certain symptoms, to provide a quantitative estimate of stroke probability.\n",
      "* Using these scores can help clinicians identify patients who are at high risk of stroke and prioritize them for urgent assessment and management.\n",
      "\n",
      "Hint 2: Consider the use of clinical risk scores in addition to conventional stroke risk factors.\n",
      "\n",
      "* Conventional stroke risk factors, such as age, sex, and hypertension, are important predictors of stroke.\n",
      "* However, clinical risk scores can provide additional information on stroke probability and help identify patients who are at high risk despite having normal or near-normal levels of conventional risk factors.\n",
      "* This can help clinicians identify individuals who may benefit from more aggressive preventive measures\n"
     ]
    }
   ],
   "source": [
    "###訓練之前的答案\n",
    "prompt = \"How does the guideline suggest using clinical risk scores for stroke prediction?\"\n",
    "\n",
    "pipe = pipeline(task=\"text-generation\", model=model, tokenizer=tokenizer)\n",
    "result = pipe(f\"[INST] {prompt} [/INST]\", max_length = 200)\n",
    "print(result[0]['generated_text']) # 輸出生成的文本"
   ]
  },
  {
   "cell_type": "code",
   "execution_count": null,
   "id": "c265fa17",
   "metadata": {},
   "outputs": [],
   "source": []
  },
  {
   "cell_type": "code",
   "execution_count": null,
   "id": "e35be4d3",
   "metadata": {},
   "outputs": [],
   "source": []
  },
  {
   "cell_type": "code",
   "execution_count": 24,
   "id": "57d8047a",
   "metadata": {},
   "outputs": [
    {
     "name": "stderr",
     "output_type": "stream",
     "text": [
      "/home/u8227385/.local/lib/python3.10/site-packages/peft/utils/other.py:102: FutureWarning: prepare_model_for_int8_training is deprecated and will be removed in a future version. Use prepare_model_for_kbit_training instead.\n",
      "  warnings.warn(\n",
      "/home/u8227385/.local/lib/python3.10/site-packages/trl/trainer/sft_trainer.py:166: UserWarning: You didn't pass a `max_seq_length` argument to the SFTTrainer, this will default to 1024\n",
      "  warnings.warn(\n"
     ]
    },
    {
     "data": {
      "application/vnd.jupyter.widget-view+json": {
       "model_id": "3fca2003415b411da795fc3de5a457b2",
       "version_major": 2,
       "version_minor": 0
      },
      "text/plain": [
       "Map:   0%|          | 0/90 [00:00<?, ? examples/s]"
      ]
     },
     "metadata": {},
     "output_type": "display_data"
    },
    {
     "data": {
      "application/vnd.jupyter.widget-view+json": {
       "model_id": "f7811a4b1ed340548da3a169d2e9f72a",
       "version_major": 2,
       "version_minor": 0
      },
      "text/plain": [
       "Map:   0%|          | 0/10 [00:00<?, ? examples/s]"
      ]
     },
     "metadata": {},
     "output_type": "display_data"
    }
   ],
   "source": [
    "trainer = SFTTrainer(\n",
    "    model=model,\n",
    "    train_dataset=train_dataset,\n",
    "    eval_dataset = test_dataset,\n",
    "    peft_config=peft_params,\n",
    "    dataset_text_field=\"text\",\n",
    "    max_seq_length=None,\n",
    "    tokenizer=tokenizer,\n",
    "    args=training_params,\n",
    "    packing=False\n",
    ")"
   ]
  },
  {
   "cell_type": "code",
   "execution_count": null,
   "id": "200a4449",
   "metadata": {},
   "outputs": [
    {
     "name": "stderr",
     "output_type": "stream",
     "text": [
      "You're using a LlamaTokenizerFast tokenizer. Please note that with a fast tokenizer, using the `__call__` method is faster than using a method to encode the text followed by a call to the `pad` method to get a padded encoding.\n",
      "/usr/local/lib/python3.10/dist-packages/torch/utils/checkpoint.py:434: UserWarning: torch.utils.checkpoint: please pass in use_reentrant=True or use_reentrant=False explicitly. The default value of use_reentrant will be updated to be False in the future. To maintain current behavior, pass use_reentrant=True. It is recommended that you use use_reentrant=False. Refer to docs for more details on the differences between the two variants.\n",
      "  warnings.warn(\n",
      "/usr/local/lib/python3.10/dist-packages/torch/nn/parallel/_functions.py:68: UserWarning: Was asked to gather along dimension 0, but all input tensors were scalars; will instead unsqueeze and return a vector.\n",
      "  warnings.warn('Was asked to gather along dimension 0, but all '\n"
     ]
    },
    {
     "data": {
      "text/html": [
       "\n",
       "    <div>\n",
       "      \n",
       "      <progress value='75' max='75' style='width:300px; height:20px; vertical-align: middle;'></progress>\n",
       "      [75/75 07:05, Epoch 15/15]\n",
       "    </div>\n",
       "    <table border=\"1\" class=\"dataframe\">\n",
       "  <thead>\n",
       " <tr style=\"text-align: left;\">\n",
       "      <th>Step</th>\n",
       "      <th>Training Loss</th>\n",
       "      <th>Validation Loss</th>\n",
       "    </tr>\n",
       "  </thead>\n",
       "  <tbody>\n",
       "    <tr>\n",
       "      <td>20</td>\n",
       "      <td>2.884700</td>\n",
       "      <td>2.083951</td>\n",
       "    </tr>\n",
       "    <tr>\n",
       "      <td>40</td>\n",
       "      <td>1.538600</td>\n",
       "      <td>1.390242</td>\n",
       "    </tr>\n",
       "    <tr>\n",
       "      <td>60</td>\n",
       "      <td>1.130400</td>\n",
       "      <td>1.237896</td>\n",
       "    </tr>\n",
       "  </tbody>\n",
       "</table><p>"
      ],
      "text/plain": [
       "<IPython.core.display.HTML object>"
      ]
     },
     "metadata": {},
     "output_type": "display_data"
    },
    {
     "name": "stderr",
     "output_type": "stream",
     "text": [
      "/usr/local/lib/python3.10/dist-packages/torch/utils/checkpoint.py:434: UserWarning: torch.utils.checkpoint: please pass in use_reentrant=True or use_reentrant=False explicitly. The default value of use_reentrant will be updated to be False in the future. To maintain current behavior, pass use_reentrant=True. It is recommended that you use use_reentrant=False. Refer to docs for more details on the differences between the two variants.\n",
      "  warnings.warn(\n",
      "/usr/local/lib/python3.10/dist-packages/torch/nn/parallel/_functions.py:68: UserWarning: Was asked to gather along dimension 0, but all input tensors were scalars; will instead unsqueeze and return a vector.\n",
      "  warnings.warn('Was asked to gather along dimension 0, but all '\n",
      "/usr/local/lib/python3.10/dist-packages/torch/utils/checkpoint.py:434: UserWarning: torch.utils.checkpoint: please pass in use_reentrant=True or use_reentrant=False explicitly. The default value of use_reentrant will be updated to be False in the future. To maintain current behavior, pass use_reentrant=True. It is recommended that you use use_reentrant=False. Refer to docs for more details on the differences between the two variants.\n",
      "  warnings.warn(\n",
      "/usr/local/lib/python3.10/dist-packages/torch/nn/parallel/_functions.py:68: UserWarning: Was asked to gather along dimension 0, but all input tensors were scalars; will instead unsqueeze and return a vector.\n",
      "  warnings.warn('Was asked to gather along dimension 0, but all '\n",
      "/usr/local/lib/python3.10/dist-packages/torch/utils/checkpoint.py:434: UserWarning: torch.utils.checkpoint: please pass in use_reentrant=True or use_reentrant=False explicitly. The default value of use_reentrant will be updated to be False in the future. To maintain current behavior, pass use_reentrant=True. It is recommended that you use use_reentrant=False. Refer to docs for more details on the differences between the two variants.\n",
      "  warnings.warn(\n",
      "/usr/local/lib/python3.10/dist-packages/torch/nn/parallel/_functions.py:68: UserWarning: Was asked to gather along dimension 0, but all input tensors were scalars; will instead unsqueeze and return a vector.\n",
      "  warnings.warn('Was asked to gather along dimension 0, but all '\n"
     ]
    },
    {
     "data": {
      "text/plain": [
       "TrainOutput(global_step=75, training_loss=1.6808369445800782, metrics={'train_runtime': 433.4633, 'train_samples_per_second': 3.114, 'train_steps_per_second': 0.173, 'total_flos': 2466826904371200.0, 'train_loss': 1.6808369445800782, 'epoch': 15.0})"
      ]
     },
     "execution_count": 25,
     "metadata": {},
     "output_type": "execute_result"
    }
   ],
   "source": [
    "# 開始訓練模型\n",
    "trainer.train()"
   ]
  },
  {
   "cell_type": "code",
   "execution_count": 31,
   "id": "be85f00c",
   "metadata": {},
   "outputs": [
    {
     "name": "stdout",
     "output_type": "stream",
     "text": [
      "[INST]What future research directions does the guideline identify?[/INST] The guideline emphasizes the need for ongoing research to improve the diagnosis and management of atrial fibrillation, particularly in underserved populations and in the context of emerging technologies. obviously, the guideline highlights the importance of continued research to optimize the efficacy and safety of new anticoagulation strategies, including novel oral anticoagulants. \n",
      "\n",
      "The guideline also stresses the need for further studies to determine the optimal duration of anticoagulation therapy, particularly in patients with acute coronary syndromes.\n",
      "\n",
      "In addition, the guideline acknowledges the growing interest in catheter ablation as a potential alternative to long-term anticoagulation therapy in select patient populations. The guideline encourages further research to compare the efficacy and safety of catheter ablation with continued anticoagulation therapy in various patient populations.\n",
      "\n",
      "Overall, the guideline underscores the critical need for continued research to advance our understanding of atrial fibrillation and to improve patient outcomes in the years ahead.\n"
     ]
    }
   ],
   "source": [
    "###訓練之後的答案\n",
    "prompt = \"What future research directions does the guideline identify?\"\n",
    "\n",
    "pipe = pipeline(task=\"text-generation\", model=model, tokenizer=tokenizer)\n",
    "result = pipe(f\"[INST]{prompt}[/INST]\", max_length = 400)\n",
    "print(result[0]['generated_text']) # 輸出生成的文本"
   ]
  },
  {
   "cell_type": "code",
   "execution_count": null,
   "id": "deed6866",
   "metadata": {},
   "outputs": [],
   "source": []
  },
  {
   "cell_type": "code",
   "execution_count": null,
   "id": "189c26d5",
   "metadata": {},
   "outputs": [],
   "source": []
  },
  {
   "cell_type": "code",
   "execution_count": 35,
   "id": "0bdcb494",
   "metadata": {},
   "outputs": [],
   "source": [
    "trainer.model.save_pretrained(new_model)"
   ]
  },
  {
   "cell_type": "code",
   "execution_count": 36,
   "id": "6a778479",
   "metadata": {},
   "outputs": [
    {
     "data": {
      "application/vnd.jupyter.widget-view+json": {
       "model_id": "6f78d54642a341ae930e714ed12520f0",
       "version_major": 2,
       "version_minor": 0
      },
      "text/plain": [
       "Loading checkpoint shards:   0%|          | 0/2 [00:00<?, ?it/s]"
      ]
     },
     "metadata": {},
     "output_type": "display_data"
    }
   ],
   "source": [
    "\n",
    "model_path = \"/home/u8227385/PTT_Llama-2_fine-tune\"  # 更改為您的路徑\n",
    "\n",
    "# 以FP16重新載入模型並將其與LoRA權重合併\n",
    "base_model = AutoModelForCausalLM.from_pretrained(\n",
    "    model_name,\n",
    "    low_cpu_mem_usage=True,\n",
    "    return_dict=True,\n",
    "    torch_dtype=torch.float16,\n",
    "    device_map={\"\": 0},\n",
    ")\n",
    "model = PeftModel.from_pretrained(base_model, new_model)\n",
    "model = model.merge_and_unload()\n"
   ]
  },
  {
   "cell_type": "code",
   "execution_count": 37,
   "id": "9bbe5ff1",
   "metadata": {},
   "outputs": [
    {
     "data": {
      "text/plain": [
       "('/home/u8227385/PTT_Llama-2_fine-tune/tokenizer_config.json',\n",
       " '/home/u8227385/PTT_Llama-2_fine-tune/special_tokens_map.json',\n",
       " '/home/u8227385/PTT_Llama-2_fine-tune/tokenizer.json')"
      ]
     },
     "execution_count": 37,
     "metadata": {},
     "output_type": "execute_result"
    }
   ],
   "source": [
    "\n",
    "# 重新載入分詞器以進行保存\n",
    "tokenizer = AutoTokenizer.from_pretrained(model_name, trust_remote_code=True)\n",
    "tokenizer.pad_token = tokenizer.eos_token\n",
    "tokenizer.padding_side = \"right\"\n",
    "\n",
    "# 儲存合併後的模型\n",
    "model.save_pretrained(model_path)\n",
    "tokenizer.save_pretrained(model_path)\n",
    "\n"
   ]
  },
  {
   "cell_type": "code",
   "execution_count": 38,
   "id": "27106ae9",
   "metadata": {},
   "outputs": [
    {
     "data": {
      "application/vnd.jupyter.widget-view+json": {
       "model_id": "7a7c43c6ba544e2496903fd882e25781",
       "version_major": 2,
       "version_minor": 0
      },
      "text/plain": [
       "Loading checkpoint shards:   0%|          | 0/2 [00:00<?, ?it/s]"
      ]
     },
     "metadata": {},
     "output_type": "display_data"
    }
   ],
   "source": [
    "# 下載新模型\n",
    "from transformers import AutoModelForCausalLM, AutoTokenizer, pipeline\n",
    "import torch\n",
    "\n",
    "\n",
    "model_path = \"/home/u8227385/PTT_Llama-2_fine-tune\"  # 更改為您儲存模型的路徑\n",
    "\n",
    "model = AutoModelForCausalLM.from_pretrained(model_path,\n",
    "                         device_map=\"auto\",\n",
    "                         offload_folder=\"offload\",\n",
    "                         torch_dtype=torch.float16)\n",
    "tokenizer = AutoTokenizer.from_pretrained(model_path)"
   ]
  },
  {
   "cell_type": "code",
   "execution_count": 39,
   "id": "d0c553c3",
   "metadata": {},
   "outputs": [
    {
     "data": {
      "text/plain": [
       "'/home/u8227385'"
      ]
     },
     "execution_count": 39,
     "metadata": {},
     "output_type": "execute_result"
    }
   ],
   "source": [
    "os.getcwd()"
   ]
  },
  {
   "cell_type": "code",
   "execution_count": 40,
   "id": "a0cfed60-f732-4aa5-9384-d0bb3c862337",
   "metadata": {},
   "outputs": [
    {
     "name": "stderr",
     "output_type": "stream",
     "text": [
      "/home/u8227385/.local/lib/python3.10/site-packages/transformers/models/open_llama/modeling_open_llama.py:42: DeprecationWarning: The 'warn' method is deprecated, use 'warning' instead\n",
      "  logger.warn(\n",
      "Xformers is not installed correctly. If you want to use memory_efficient_attention to accelerate training use the following command to install Xformers\n",
      "pip install xformers.\n"
     ]
    },
    {
     "name": "stdout",
     "output_type": "stream",
     "text": [
      "[INST] What is a large language model? [/INST]  A large language model is a type of artificial intelligence (AI) model that is trained on a large corpus of text data to generate language outputs that are coherent and natural-sounding. The model is designed to learn the patterns and structures of language, such as grammar, syntax, and semantics, by analyzing a large amount of text data.\n",
      "\n",
      "The size of a large language model can vary, but it is typically measured in terms of the number of parameters or the amount of training data used to train the model. For example, a language model with 100 million parameters might be considered large, while one with 1 billion parameters might be considered enormous.\n",
      "\n",
      "Some examples of large language models include:\n",
      "\n",
      "1. BERT (Bidirectional Encoder Representations from Transformers): Developed by Google in 2018, BERT is a pre-trained language model that has been fine-tuned on a wide range of natural language processing (NLP) tasks, including question answering, sentiment analysis, and text classification. BERT has over 300 million parameters and is trained on a large corpus of text data.\n",
      "2. RoBERTa (Robustly Optimized BERT Pretraining Approach): Developed by Facebook AI in 2019, RoBERTa\n"
     ]
    }
   ],
   "source": [
    "prompt = \"What is a large language model?\"\n",
    "\n",
    "pipe = pipeline(task=\"text-generation\", model=model, tokenizer=tokenizer, max_length=300)\n",
    "result = pipe(f\"[INST] {prompt} [/INST]\")\n",
    "print(result[0]['generated_text']) # 輸出生成的文本"
   ]
  },
  {
   "cell_type": "code",
   "execution_count": 42,
   "id": "81dc3faf",
   "metadata": {},
   "outputs": [
    {
     "name": "stdout",
     "output_type": "stream",
     "text": [
      "[INST] 醫學系跟牙醫系誰比較好？ [/INST] 醫學系和牙醫系都是很好的學科，但是它們的背景和訓練有所不同。\n",
      "\n",
      "醫學系是一個很具有挑戰性的學科，需要學生具備很強的學術基礎和實際醫療技能，以及具備廣泛的醫療知識和技能。醫學系的學生需要通過嚴苛的考試和實習，以確保他們能夠對於醫療護理和醫療科學的掌握有很強的基礎。\n",
      "\n",
      "牙醫系則是一個很具有創新性和趣味的學科，需要學生具備很強的技術和實際技能，以及對於牙醫學的廣泛知識和技能。牙醫系的學生需要通過嚴苛的考試和實習，以確保他們能夠對於牙醫護理和牙醫科學的掌握有很強的基礎。\n",
      "\n",
      "因此，醫學系和牙醫系的好壞差不多，都是�\n"
     ]
    }
   ],
   "source": [
    "prompt = \"醫學系跟牙醫系誰比較好？\"\n",
    "\n",
    "pipe = pipeline(task=\"text-generation\", model=model, tokenizer=tokenizer, max_length=500)\n",
    "result = pipe(f\"[INST] {prompt} [/INST]\")\n",
    "print(result[0]['generated_text']) # 輸出生成的文本"
   ]
  },
  {
   "cell_type": "code",
   "execution_count": 43,
   "id": "f31a0266",
   "metadata": {},
   "outputs": [
    {
     "name": "stdout",
     "output_type": "stream",
     "text": [
      "[INST] 為什麼PTT這麼多人看棒球？ [/INST] 許多人看棒球的原因有多個，以下是一些可能的原因：\n",
      "\n",
      "1. 棒球是台灣最受歡迎的運動，並且有許多優秀的選手，例如王建民、楊廣傑、楊顯煌等，這些選手的表現和個人特質吸引了許多人的追隨。\n",
      "2. 棒球是一種需要團體合作的運動，因此團體合作的能力和團體精神具有很高的價值，這些價值可以帶給人們很大的感染和啟示。\n",
      "3. 棒球是一種需要具有很高的體能和技術的運動，因此許多人對棒球有著崇敬和尊敬的態度，並且這些選手的努力和奮鬥具有很大的吸引力。\n",
      "4. 棒球是一種需要具有很高的精神和決心的運動，因此許多人對棒球有著崇敬和尊敬的態度，並且這些選手的精神和決心具有很大的\n"
     ]
    }
   ],
   "source": [
    "prompt = \"為什麼PTT這麼多人看棒球？\"\n",
    "\n",
    "pipe = pipeline(task=\"text-generation\", model=model, tokenizer=tokenizer, max_length=500)\n",
    "result = pipe(f\"[INST] {prompt} [/INST]\")\n",
    "print(result[0]['generated_text']) # 輸出生成的文本"
   ]
  },
  {
   "cell_type": "code",
   "execution_count": null,
   "id": "aacaf343",
   "metadata": {},
   "outputs": [],
   "source": []
  },
  {
   "cell_type": "code",
   "execution_count": null,
   "id": "6339a224",
   "metadata": {},
   "outputs": [],
   "source": []
  },
  {
   "cell_type": "code",
   "execution_count": null,
   "id": "fdc4cd62",
   "metadata": {},
   "outputs": [],
   "source": []
  },
  {
   "cell_type": "code",
   "execution_count": null,
   "id": "259ebf9f",
   "metadata": {},
   "outputs": [],
   "source": []
  },
  {
   "cell_type": "code",
   "execution_count": null,
   "id": "b9fc989d",
   "metadata": {},
   "outputs": [],
   "source": []
  },
  {
   "cell_type": "code",
   "execution_count": 38,
   "id": "701e67cb-76e5-4ff2-a225-3209fc75183a",
   "metadata": {},
   "outputs": [],
   "source": [
    "def RLHF_loss(sentence_A, sentence_B):\n",
    "    j = tokenizer(sentence_A+sentence_B, return_tensors=\"pt\")\n",
    "    k = tokenizer(sentence_B, return_tensors=\"pt\")\n",
    "    \n",
    "    rewards_j = model(**j)[0]\n",
    "    rewards_k = model(**k)[0]\n",
    "    \n",
    "    loss = -nn.functional.logsigmoid(rewards_j - rewards_k).mean()\n",
    "    \n",
    "    return loss"
   ]
  },
  {
   "cell_type": "code",
   "execution_count": 44,
   "id": "6e2b8b29-f258-4e2f-a587-13f40e0baa74",
   "metadata": {},
   "outputs": [
    {
     "ename": "RuntimeError",
     "evalue": "The size of tensor a (64) must match the size of tensor b (79) at non-singleton dimension 1",
     "output_type": "error",
     "traceback": [
      "\u001b[1;31m---------------------------------------------------------------------------\u001b[0m",
      "\u001b[1;31mRuntimeError\u001b[0m                              Traceback (most recent call last)",
      "Cell \u001b[1;32mIn[44], line 20\u001b[0m\n\u001b[0;32m     17\u001b[0m     \u001b[38;5;28;01mreturn\u001b[39;00m loss\n\u001b[0;32m     19\u001b[0m model\u001b[38;5;241m.\u001b[39mtrain()\n\u001b[1;32m---> 20\u001b[0m loss \u001b[38;5;241m=\u001b[39m \u001b[43mRLHF_loss\u001b[49m\u001b[43m(\u001b[49m\u001b[43mformatted_answer\u001b[49m\u001b[43m,\u001b[49m\u001b[43m \u001b[49m\u001b[43mdecode_sentence\u001b[49m\u001b[43m[\u001b[49m\u001b[38;5;241;43m0\u001b[39;49m\u001b[43m]\u001b[49m\u001b[43m)\u001b[49m\n\u001b[0;32m     21\u001b[0m loss\u001b[38;5;241m.\u001b[39mbackward()\n\u001b[0;32m     22\u001b[0m optimizer\u001b[38;5;241m.\u001b[39mstep() \n",
      "Cell \u001b[1;32mIn[44], line 15\u001b[0m, in \u001b[0;36mRLHF_loss\u001b[1;34m(sentence_A, sentence_B)\u001b[0m\n\u001b[0;32m     12\u001b[0m rewards_j \u001b[38;5;241m=\u001b[39m model(\u001b[38;5;241m*\u001b[39m\u001b[38;5;241m*\u001b[39mj)[\u001b[38;5;241m0\u001b[39m]\n\u001b[0;32m     13\u001b[0m rewards_k \u001b[38;5;241m=\u001b[39m model(\u001b[38;5;241m*\u001b[39m\u001b[38;5;241m*\u001b[39mk)[\u001b[38;5;241m0\u001b[39m]\n\u001b[1;32m---> 15\u001b[0m loss \u001b[38;5;241m=\u001b[39m \u001b[38;5;241m-\u001b[39mnn\u001b[38;5;241m.\u001b[39mfunctional\u001b[38;5;241m.\u001b[39mlogsigmoid(\u001b[43mrewards_j\u001b[49m\u001b[43m \u001b[49m\u001b[38;5;241;43m-\u001b[39;49m\u001b[43m \u001b[49m\u001b[43mrewards_k\u001b[49m)\u001b[38;5;241m.\u001b[39mmean()\n\u001b[0;32m     17\u001b[0m \u001b[38;5;28;01mreturn\u001b[39;00m loss\n",
      "\u001b[1;31mRuntimeError\u001b[0m: The size of tensor a (64) must match the size of tensor b (79) at non-singleton dimension 1"
     ]
    }
   ],
   "source": [
    "import torch.nn as nn\n",
    "from tqdm import tqdm\n",
    "import matplotlib.pyplot as plt\n",
    "import torch.optim as optim\n",
    "optimizer = optim.Adam(model.parameters(), lr=1e-4)\n",
    "\n",
    "model.float().train()\n",
    "def RLHF_loss(sentence_A, sentence_B):\n",
    "    j = tokenizer(sentence_A, truncation=True, padding=\"longest\", return_tensors='pt')\n",
    "    k = tokenizer(sentence_B, truncation=True, padding=\"longest\", return_tensors='pt')\n",
    "    \n",
    "    rewards_j = model(**j)[0]\n",
    "    rewards_k = model(**k)[0]\n",
    "\n",
    "    loss = -nn.functional.logsigmoid(rewards_j - rewards_k).mean()\n",
    "    \n",
    "    return loss\n",
    "    \n",
    "model.train()\n",
    "loss = RLHF_loss(formatted_answer, decode_sentence[0])\n",
    "loss.backward()\n",
    "optimizer.step() "
   ]
  },
  {
   "cell_type": "code",
   "execution_count": 34,
   "id": "501e2b9a-14e5-4466-8803-f90eb87ba9e4",
   "metadata": {},
   "outputs": [
    {
     "ename": "NameError",
     "evalue": "name 'loss' is not defined",
     "output_type": "error",
     "traceback": [
      "\u001b[1;31m---------------------------------------------------------------------------\u001b[0m",
      "\u001b[1;31mNameError\u001b[0m                                 Traceback (most recent call last)",
      "Cell \u001b[1;32mIn[34], line 1\u001b[0m\n\u001b[1;32m----> 1\u001b[0m \u001b[43mloss\u001b[49m\n",
      "\u001b[1;31mNameError\u001b[0m: name 'loss' is not defined"
     ]
    }
   ],
   "source": [
    "loss"
   ]
  },
  {
   "cell_type": "code",
   "execution_count": 97,
   "id": "2dcab449-fccf-4e5f-89ec-345b5d6b0910",
   "metadata": {},
   "outputs": [
    {
     "ename": "AttributeError",
     "evalue": "'dict' object has no attribute 'shape'",
     "output_type": "error",
     "traceback": [
      "\u001b[1;31m---------------------------------------------------------------------------\u001b[0m",
      "\u001b[1;31mAttributeError\u001b[0m                            Traceback (most recent call last)",
      "Cell \u001b[1;32mIn[97], line 9\u001b[0m\n\u001b[0;32m      6\u001b[0m A_dict \u001b[38;5;241m=\u001b[39m {\u001b[38;5;124m'\u001b[39m\u001b[38;5;124minput_ids\u001b[39m\u001b[38;5;124m'\u001b[39m:sentence_token[\u001b[38;5;124m'\u001b[39m\u001b[38;5;124minput_ids\u001b[39m\u001b[38;5;124m'\u001b[39m][\u001b[38;5;241m0\u001b[39m],\u001b[38;5;124m'\u001b[39m\u001b[38;5;124mattention_mask\u001b[39m\u001b[38;5;124m'\u001b[39m:sentence_token[\u001b[38;5;124m'\u001b[39m\u001b[38;5;124mattention_mask\u001b[39m\u001b[38;5;124m'\u001b[39m][\u001b[38;5;241m0\u001b[39m]}\n\u001b[0;32m      7\u001b[0m B_dict \u001b[38;5;241m=\u001b[39m {\u001b[38;5;124m'\u001b[39m\u001b[38;5;124minput_ids\u001b[39m\u001b[38;5;124m'\u001b[39m:sentence_token[\u001b[38;5;124m'\u001b[39m\u001b[38;5;124minput_ids\u001b[39m\u001b[38;5;124m'\u001b[39m][\u001b[38;5;241m1\u001b[39m],\u001b[38;5;124m'\u001b[39m\u001b[38;5;124mattention_mask\u001b[39m\u001b[38;5;124m'\u001b[39m:sentence_token[\u001b[38;5;124m'\u001b[39m\u001b[38;5;124mattention_mask\u001b[39m\u001b[38;5;124m'\u001b[39m][\u001b[38;5;241m1\u001b[39m]}\n\u001b[1;32m----> 9\u001b[0m rewards_j \u001b[38;5;241m=\u001b[39m \u001b[43mmodel\u001b[49m\u001b[43m(\u001b[49m\u001b[43mA_dict\u001b[49m\u001b[43m)\u001b[49m\n\u001b[0;32m     10\u001b[0m \u001b[38;5;66;03m#loss = -nn.functional.logsigmoid(rewards_j - rewards_k).mean()\u001b[39;00m\n",
      "File \u001b[1;32m~\\anaconda3\\envs\\pt_env\\lib\\site-packages\\torch\\nn\\modules\\module.py:1511\u001b[0m, in \u001b[0;36mModule._wrapped_call_impl\u001b[1;34m(self, *args, **kwargs)\u001b[0m\n\u001b[0;32m   1509\u001b[0m     \u001b[38;5;28;01mreturn\u001b[39;00m \u001b[38;5;28mself\u001b[39m\u001b[38;5;241m.\u001b[39m_compiled_call_impl(\u001b[38;5;241m*\u001b[39margs, \u001b[38;5;241m*\u001b[39m\u001b[38;5;241m*\u001b[39mkwargs)  \u001b[38;5;66;03m# type: ignore[misc]\u001b[39;00m\n\u001b[0;32m   1510\u001b[0m \u001b[38;5;28;01melse\u001b[39;00m:\n\u001b[1;32m-> 1511\u001b[0m     \u001b[38;5;28;01mreturn\u001b[39;00m \u001b[38;5;28;43mself\u001b[39;49m\u001b[38;5;241;43m.\u001b[39;49m\u001b[43m_call_impl\u001b[49m\u001b[43m(\u001b[49m\u001b[38;5;241;43m*\u001b[39;49m\u001b[43margs\u001b[49m\u001b[43m,\u001b[49m\u001b[43m \u001b[49m\u001b[38;5;241;43m*\u001b[39;49m\u001b[38;5;241;43m*\u001b[39;49m\u001b[43mkwargs\u001b[49m\u001b[43m)\u001b[49m\n",
      "File \u001b[1;32m~\\anaconda3\\envs\\pt_env\\lib\\site-packages\\torch\\nn\\modules\\module.py:1520\u001b[0m, in \u001b[0;36mModule._call_impl\u001b[1;34m(self, *args, **kwargs)\u001b[0m\n\u001b[0;32m   1515\u001b[0m \u001b[38;5;66;03m# If we don't have any hooks, we want to skip the rest of the logic in\u001b[39;00m\n\u001b[0;32m   1516\u001b[0m \u001b[38;5;66;03m# this function, and just call forward.\u001b[39;00m\n\u001b[0;32m   1517\u001b[0m \u001b[38;5;28;01mif\u001b[39;00m \u001b[38;5;129;01mnot\u001b[39;00m (\u001b[38;5;28mself\u001b[39m\u001b[38;5;241m.\u001b[39m_backward_hooks \u001b[38;5;129;01mor\u001b[39;00m \u001b[38;5;28mself\u001b[39m\u001b[38;5;241m.\u001b[39m_backward_pre_hooks \u001b[38;5;129;01mor\u001b[39;00m \u001b[38;5;28mself\u001b[39m\u001b[38;5;241m.\u001b[39m_forward_hooks \u001b[38;5;129;01mor\u001b[39;00m \u001b[38;5;28mself\u001b[39m\u001b[38;5;241m.\u001b[39m_forward_pre_hooks\n\u001b[0;32m   1518\u001b[0m         \u001b[38;5;129;01mor\u001b[39;00m _global_backward_pre_hooks \u001b[38;5;129;01mor\u001b[39;00m _global_backward_hooks\n\u001b[0;32m   1519\u001b[0m         \u001b[38;5;129;01mor\u001b[39;00m _global_forward_hooks \u001b[38;5;129;01mor\u001b[39;00m _global_forward_pre_hooks):\n\u001b[1;32m-> 1520\u001b[0m     \u001b[38;5;28;01mreturn\u001b[39;00m \u001b[43mforward_call\u001b[49m\u001b[43m(\u001b[49m\u001b[38;5;241;43m*\u001b[39;49m\u001b[43margs\u001b[49m\u001b[43m,\u001b[49m\u001b[43m \u001b[49m\u001b[38;5;241;43m*\u001b[39;49m\u001b[38;5;241;43m*\u001b[39;49m\u001b[43mkwargs\u001b[49m\u001b[43m)\u001b[49m\n\u001b[0;32m   1522\u001b[0m \u001b[38;5;28;01mtry\u001b[39;00m:\n\u001b[0;32m   1523\u001b[0m     result \u001b[38;5;241m=\u001b[39m \u001b[38;5;28;01mNone\u001b[39;00m\n",
      "File \u001b[1;32m~\\anaconda3\\envs\\pt_env\\lib\\site-packages\\peft\\peft_model.py:922\u001b[0m, in \u001b[0;36mPeftModelForCausalLM.forward\u001b[1;34m(self, input_ids, attention_mask, inputs_embeds, labels, output_attentions, output_hidden_states, return_dict, **kwargs)\u001b[0m\n\u001b[0;32m    911\u001b[0m             \u001b[38;5;28;01mraise\u001b[39;00m \u001b[38;5;167;01mAssertionError\u001b[39;00m(\u001b[38;5;124m\"\u001b[39m\u001b[38;5;124mforward in MPTForCausalLM does not support inputs_embeds\u001b[39m\u001b[38;5;124m\"\u001b[39m)\n\u001b[0;32m    912\u001b[0m         \u001b[38;5;28;01mreturn\u001b[39;00m \u001b[38;5;28mself\u001b[39m\u001b[38;5;241m.\u001b[39mbase_model(\n\u001b[0;32m    913\u001b[0m             input_ids\u001b[38;5;241m=\u001b[39minput_ids,\n\u001b[0;32m    914\u001b[0m             attention_mask\u001b[38;5;241m=\u001b[39mattention_mask,\n\u001b[1;32m   (...)\u001b[0m\n\u001b[0;32m    919\u001b[0m             \u001b[38;5;241m*\u001b[39m\u001b[38;5;241m*\u001b[39mkwargs,\n\u001b[0;32m    920\u001b[0m         )\n\u001b[1;32m--> 922\u001b[0m     \u001b[38;5;28;01mreturn\u001b[39;00m \u001b[38;5;28;43mself\u001b[39;49m\u001b[38;5;241;43m.\u001b[39;49m\u001b[43mbase_model\u001b[49m\u001b[43m(\u001b[49m\n\u001b[0;32m    923\u001b[0m \u001b[43m        \u001b[49m\u001b[43minput_ids\u001b[49m\u001b[38;5;241;43m=\u001b[39;49m\u001b[43minput_ids\u001b[49m\u001b[43m,\u001b[49m\n\u001b[0;32m    924\u001b[0m \u001b[43m        \u001b[49m\u001b[43mattention_mask\u001b[49m\u001b[38;5;241;43m=\u001b[39;49m\u001b[43mattention_mask\u001b[49m\u001b[43m,\u001b[49m\n\u001b[0;32m    925\u001b[0m \u001b[43m        \u001b[49m\u001b[43minputs_embeds\u001b[49m\u001b[38;5;241;43m=\u001b[39;49m\u001b[43minputs_embeds\u001b[49m\u001b[43m,\u001b[49m\n\u001b[0;32m    926\u001b[0m \u001b[43m        \u001b[49m\u001b[43mlabels\u001b[49m\u001b[38;5;241;43m=\u001b[39;49m\u001b[43mlabels\u001b[49m\u001b[43m,\u001b[49m\n\u001b[0;32m    927\u001b[0m \u001b[43m        \u001b[49m\u001b[43moutput_attentions\u001b[49m\u001b[38;5;241;43m=\u001b[39;49m\u001b[43moutput_attentions\u001b[49m\u001b[43m,\u001b[49m\n\u001b[0;32m    928\u001b[0m \u001b[43m        \u001b[49m\u001b[43moutput_hidden_states\u001b[49m\u001b[38;5;241;43m=\u001b[39;49m\u001b[43moutput_hidden_states\u001b[49m\u001b[43m,\u001b[49m\n\u001b[0;32m    929\u001b[0m \u001b[43m        \u001b[49m\u001b[43mreturn_dict\u001b[49m\u001b[38;5;241;43m=\u001b[39;49m\u001b[43mreturn_dict\u001b[49m\u001b[43m,\u001b[49m\n\u001b[0;32m    930\u001b[0m \u001b[43m        \u001b[49m\u001b[38;5;241;43m*\u001b[39;49m\u001b[38;5;241;43m*\u001b[39;49m\u001b[43mkwargs\u001b[49m\u001b[43m,\u001b[49m\n\u001b[0;32m    931\u001b[0m \u001b[43m    \u001b[49m\u001b[43m)\u001b[49m\n\u001b[0;32m    933\u001b[0m batch_size \u001b[38;5;241m=\u001b[39m input_ids\u001b[38;5;241m.\u001b[39mshape[\u001b[38;5;241m0\u001b[39m]\n\u001b[0;32m    934\u001b[0m \u001b[38;5;28;01mif\u001b[39;00m attention_mask \u001b[38;5;129;01mis\u001b[39;00m \u001b[38;5;129;01mnot\u001b[39;00m \u001b[38;5;28;01mNone\u001b[39;00m:\n\u001b[0;32m    935\u001b[0m     \u001b[38;5;66;03m# concat prompt attention mask\u001b[39;00m\n",
      "File \u001b[1;32m~\\anaconda3\\envs\\pt_env\\lib\\site-packages\\torch\\nn\\modules\\module.py:1511\u001b[0m, in \u001b[0;36mModule._wrapped_call_impl\u001b[1;34m(self, *args, **kwargs)\u001b[0m\n\u001b[0;32m   1509\u001b[0m     \u001b[38;5;28;01mreturn\u001b[39;00m \u001b[38;5;28mself\u001b[39m\u001b[38;5;241m.\u001b[39m_compiled_call_impl(\u001b[38;5;241m*\u001b[39margs, \u001b[38;5;241m*\u001b[39m\u001b[38;5;241m*\u001b[39mkwargs)  \u001b[38;5;66;03m# type: ignore[misc]\u001b[39;00m\n\u001b[0;32m   1510\u001b[0m \u001b[38;5;28;01melse\u001b[39;00m:\n\u001b[1;32m-> 1511\u001b[0m     \u001b[38;5;28;01mreturn\u001b[39;00m \u001b[38;5;28;43mself\u001b[39;49m\u001b[38;5;241;43m.\u001b[39;49m\u001b[43m_call_impl\u001b[49m\u001b[43m(\u001b[49m\u001b[38;5;241;43m*\u001b[39;49m\u001b[43margs\u001b[49m\u001b[43m,\u001b[49m\u001b[43m \u001b[49m\u001b[38;5;241;43m*\u001b[39;49m\u001b[38;5;241;43m*\u001b[39;49m\u001b[43mkwargs\u001b[49m\u001b[43m)\u001b[49m\n",
      "File \u001b[1;32m~\\anaconda3\\envs\\pt_env\\lib\\site-packages\\torch\\nn\\modules\\module.py:1520\u001b[0m, in \u001b[0;36mModule._call_impl\u001b[1;34m(self, *args, **kwargs)\u001b[0m\n\u001b[0;32m   1515\u001b[0m \u001b[38;5;66;03m# If we don't have any hooks, we want to skip the rest of the logic in\u001b[39;00m\n\u001b[0;32m   1516\u001b[0m \u001b[38;5;66;03m# this function, and just call forward.\u001b[39;00m\n\u001b[0;32m   1517\u001b[0m \u001b[38;5;28;01mif\u001b[39;00m \u001b[38;5;129;01mnot\u001b[39;00m (\u001b[38;5;28mself\u001b[39m\u001b[38;5;241m.\u001b[39m_backward_hooks \u001b[38;5;129;01mor\u001b[39;00m \u001b[38;5;28mself\u001b[39m\u001b[38;5;241m.\u001b[39m_backward_pre_hooks \u001b[38;5;129;01mor\u001b[39;00m \u001b[38;5;28mself\u001b[39m\u001b[38;5;241m.\u001b[39m_forward_hooks \u001b[38;5;129;01mor\u001b[39;00m \u001b[38;5;28mself\u001b[39m\u001b[38;5;241m.\u001b[39m_forward_pre_hooks\n\u001b[0;32m   1518\u001b[0m         \u001b[38;5;129;01mor\u001b[39;00m _global_backward_pre_hooks \u001b[38;5;129;01mor\u001b[39;00m _global_backward_hooks\n\u001b[0;32m   1519\u001b[0m         \u001b[38;5;129;01mor\u001b[39;00m _global_forward_hooks \u001b[38;5;129;01mor\u001b[39;00m _global_forward_pre_hooks):\n\u001b[1;32m-> 1520\u001b[0m     \u001b[38;5;28;01mreturn\u001b[39;00m \u001b[43mforward_call\u001b[49m\u001b[43m(\u001b[49m\u001b[38;5;241;43m*\u001b[39;49m\u001b[43margs\u001b[49m\u001b[43m,\u001b[49m\u001b[43m \u001b[49m\u001b[38;5;241;43m*\u001b[39;49m\u001b[38;5;241;43m*\u001b[39;49m\u001b[43mkwargs\u001b[49m\u001b[43m)\u001b[49m\n\u001b[0;32m   1522\u001b[0m \u001b[38;5;28;01mtry\u001b[39;00m:\n\u001b[0;32m   1523\u001b[0m     result \u001b[38;5;241m=\u001b[39m \u001b[38;5;28;01mNone\u001b[39;00m\n",
      "File \u001b[1;32m~\\anaconda3\\envs\\pt_env\\lib\\site-packages\\accelerate\\hooks.py:165\u001b[0m, in \u001b[0;36madd_hook_to_module.<locals>.new_forward\u001b[1;34m(*args, **kwargs)\u001b[0m\n\u001b[0;32m    163\u001b[0m         output \u001b[38;5;241m=\u001b[39m old_forward(\u001b[38;5;241m*\u001b[39margs, \u001b[38;5;241m*\u001b[39m\u001b[38;5;241m*\u001b[39mkwargs)\n\u001b[0;32m    164\u001b[0m \u001b[38;5;28;01melse\u001b[39;00m:\n\u001b[1;32m--> 165\u001b[0m     output \u001b[38;5;241m=\u001b[39m \u001b[43mold_forward\u001b[49m\u001b[43m(\u001b[49m\u001b[38;5;241;43m*\u001b[39;49m\u001b[43margs\u001b[49m\u001b[43m,\u001b[49m\u001b[43m \u001b[49m\u001b[38;5;241;43m*\u001b[39;49m\u001b[38;5;241;43m*\u001b[39;49m\u001b[43mkwargs\u001b[49m\u001b[43m)\u001b[49m\n\u001b[0;32m    166\u001b[0m \u001b[38;5;28;01mreturn\u001b[39;00m module\u001b[38;5;241m.\u001b[39m_hf_hook\u001b[38;5;241m.\u001b[39mpost_forward(module, output)\n",
      "File \u001b[1;32m~\\anaconda3\\envs\\pt_env\\lib\\site-packages\\transformers\\models\\llama\\modeling_llama.py:806\u001b[0m, in \u001b[0;36mLlamaForCausalLM.forward\u001b[1;34m(self, input_ids, attention_mask, position_ids, past_key_values, inputs_embeds, labels, use_cache, output_attentions, output_hidden_states, return_dict)\u001b[0m\n\u001b[0;32m    803\u001b[0m return_dict \u001b[38;5;241m=\u001b[39m return_dict \u001b[38;5;28;01mif\u001b[39;00m return_dict \u001b[38;5;129;01mis\u001b[39;00m \u001b[38;5;129;01mnot\u001b[39;00m \u001b[38;5;28;01mNone\u001b[39;00m \u001b[38;5;28;01melse\u001b[39;00m \u001b[38;5;28mself\u001b[39m\u001b[38;5;241m.\u001b[39mconfig\u001b[38;5;241m.\u001b[39muse_return_dict\n\u001b[0;32m    805\u001b[0m \u001b[38;5;66;03m# decoder outputs consists of (dec_features, layer_state, dec_hidden, dec_attn)\u001b[39;00m\n\u001b[1;32m--> 806\u001b[0m outputs \u001b[38;5;241m=\u001b[39m \u001b[38;5;28;43mself\u001b[39;49m\u001b[38;5;241;43m.\u001b[39;49m\u001b[43mmodel\u001b[49m\u001b[43m(\u001b[49m\n\u001b[0;32m    807\u001b[0m \u001b[43m    \u001b[49m\u001b[43minput_ids\u001b[49m\u001b[38;5;241;43m=\u001b[39;49m\u001b[43minput_ids\u001b[49m\u001b[43m,\u001b[49m\n\u001b[0;32m    808\u001b[0m \u001b[43m    \u001b[49m\u001b[43mattention_mask\u001b[49m\u001b[38;5;241;43m=\u001b[39;49m\u001b[43mattention_mask\u001b[49m\u001b[43m,\u001b[49m\n\u001b[0;32m    809\u001b[0m \u001b[43m    \u001b[49m\u001b[43mposition_ids\u001b[49m\u001b[38;5;241;43m=\u001b[39;49m\u001b[43mposition_ids\u001b[49m\u001b[43m,\u001b[49m\n\u001b[0;32m    810\u001b[0m \u001b[43m    \u001b[49m\u001b[43mpast_key_values\u001b[49m\u001b[38;5;241;43m=\u001b[39;49m\u001b[43mpast_key_values\u001b[49m\u001b[43m,\u001b[49m\n\u001b[0;32m    811\u001b[0m \u001b[43m    \u001b[49m\u001b[43minputs_embeds\u001b[49m\u001b[38;5;241;43m=\u001b[39;49m\u001b[43minputs_embeds\u001b[49m\u001b[43m,\u001b[49m\n\u001b[0;32m    812\u001b[0m \u001b[43m    \u001b[49m\u001b[43muse_cache\u001b[49m\u001b[38;5;241;43m=\u001b[39;49m\u001b[43muse_cache\u001b[49m\u001b[43m,\u001b[49m\n\u001b[0;32m    813\u001b[0m \u001b[43m    \u001b[49m\u001b[43moutput_attentions\u001b[49m\u001b[38;5;241;43m=\u001b[39;49m\u001b[43moutput_attentions\u001b[49m\u001b[43m,\u001b[49m\n\u001b[0;32m    814\u001b[0m \u001b[43m    \u001b[49m\u001b[43moutput_hidden_states\u001b[49m\u001b[38;5;241;43m=\u001b[39;49m\u001b[43moutput_hidden_states\u001b[49m\u001b[43m,\u001b[49m\n\u001b[0;32m    815\u001b[0m \u001b[43m    \u001b[49m\u001b[43mreturn_dict\u001b[49m\u001b[38;5;241;43m=\u001b[39;49m\u001b[43mreturn_dict\u001b[49m\u001b[43m,\u001b[49m\n\u001b[0;32m    816\u001b[0m \u001b[43m\u001b[49m\u001b[43m)\u001b[49m\n\u001b[0;32m    818\u001b[0m hidden_states \u001b[38;5;241m=\u001b[39m outputs[\u001b[38;5;241m0\u001b[39m]\n\u001b[0;32m    819\u001b[0m \u001b[38;5;28;01mif\u001b[39;00m \u001b[38;5;28mself\u001b[39m\u001b[38;5;241m.\u001b[39mpretraining_tp \u001b[38;5;241m>\u001b[39m \u001b[38;5;241m1\u001b[39m:\n",
      "File \u001b[1;32m~\\anaconda3\\envs\\pt_env\\lib\\site-packages\\torch\\nn\\modules\\module.py:1511\u001b[0m, in \u001b[0;36mModule._wrapped_call_impl\u001b[1;34m(self, *args, **kwargs)\u001b[0m\n\u001b[0;32m   1509\u001b[0m     \u001b[38;5;28;01mreturn\u001b[39;00m \u001b[38;5;28mself\u001b[39m\u001b[38;5;241m.\u001b[39m_compiled_call_impl(\u001b[38;5;241m*\u001b[39margs, \u001b[38;5;241m*\u001b[39m\u001b[38;5;241m*\u001b[39mkwargs)  \u001b[38;5;66;03m# type: ignore[misc]\u001b[39;00m\n\u001b[0;32m   1510\u001b[0m \u001b[38;5;28;01melse\u001b[39;00m:\n\u001b[1;32m-> 1511\u001b[0m     \u001b[38;5;28;01mreturn\u001b[39;00m \u001b[38;5;28;43mself\u001b[39;49m\u001b[38;5;241;43m.\u001b[39;49m\u001b[43m_call_impl\u001b[49m\u001b[43m(\u001b[49m\u001b[38;5;241;43m*\u001b[39;49m\u001b[43margs\u001b[49m\u001b[43m,\u001b[49m\u001b[43m \u001b[49m\u001b[38;5;241;43m*\u001b[39;49m\u001b[38;5;241;43m*\u001b[39;49m\u001b[43mkwargs\u001b[49m\u001b[43m)\u001b[49m\n",
      "File \u001b[1;32m~\\anaconda3\\envs\\pt_env\\lib\\site-packages\\torch\\nn\\modules\\module.py:1520\u001b[0m, in \u001b[0;36mModule._call_impl\u001b[1;34m(self, *args, **kwargs)\u001b[0m\n\u001b[0;32m   1515\u001b[0m \u001b[38;5;66;03m# If we don't have any hooks, we want to skip the rest of the logic in\u001b[39;00m\n\u001b[0;32m   1516\u001b[0m \u001b[38;5;66;03m# this function, and just call forward.\u001b[39;00m\n\u001b[0;32m   1517\u001b[0m \u001b[38;5;28;01mif\u001b[39;00m \u001b[38;5;129;01mnot\u001b[39;00m (\u001b[38;5;28mself\u001b[39m\u001b[38;5;241m.\u001b[39m_backward_hooks \u001b[38;5;129;01mor\u001b[39;00m \u001b[38;5;28mself\u001b[39m\u001b[38;5;241m.\u001b[39m_backward_pre_hooks \u001b[38;5;129;01mor\u001b[39;00m \u001b[38;5;28mself\u001b[39m\u001b[38;5;241m.\u001b[39m_forward_hooks \u001b[38;5;129;01mor\u001b[39;00m \u001b[38;5;28mself\u001b[39m\u001b[38;5;241m.\u001b[39m_forward_pre_hooks\n\u001b[0;32m   1518\u001b[0m         \u001b[38;5;129;01mor\u001b[39;00m _global_backward_pre_hooks \u001b[38;5;129;01mor\u001b[39;00m _global_backward_hooks\n\u001b[0;32m   1519\u001b[0m         \u001b[38;5;129;01mor\u001b[39;00m _global_forward_hooks \u001b[38;5;129;01mor\u001b[39;00m _global_forward_pre_hooks):\n\u001b[1;32m-> 1520\u001b[0m     \u001b[38;5;28;01mreturn\u001b[39;00m \u001b[43mforward_call\u001b[49m\u001b[43m(\u001b[49m\u001b[38;5;241;43m*\u001b[39;49m\u001b[43margs\u001b[49m\u001b[43m,\u001b[49m\u001b[43m \u001b[49m\u001b[38;5;241;43m*\u001b[39;49m\u001b[38;5;241;43m*\u001b[39;49m\u001b[43mkwargs\u001b[49m\u001b[43m)\u001b[49m\n\u001b[0;32m   1522\u001b[0m \u001b[38;5;28;01mtry\u001b[39;00m:\n\u001b[0;32m   1523\u001b[0m     result \u001b[38;5;241m=\u001b[39m \u001b[38;5;28;01mNone\u001b[39;00m\n",
      "File \u001b[1;32m~\\anaconda3\\envs\\pt_env\\lib\\site-packages\\accelerate\\hooks.py:165\u001b[0m, in \u001b[0;36madd_hook_to_module.<locals>.new_forward\u001b[1;34m(*args, **kwargs)\u001b[0m\n\u001b[0;32m    163\u001b[0m         output \u001b[38;5;241m=\u001b[39m old_forward(\u001b[38;5;241m*\u001b[39margs, \u001b[38;5;241m*\u001b[39m\u001b[38;5;241m*\u001b[39mkwargs)\n\u001b[0;32m    164\u001b[0m \u001b[38;5;28;01melse\u001b[39;00m:\n\u001b[1;32m--> 165\u001b[0m     output \u001b[38;5;241m=\u001b[39m \u001b[43mold_forward\u001b[49m\u001b[43m(\u001b[49m\u001b[38;5;241;43m*\u001b[39;49m\u001b[43margs\u001b[49m\u001b[43m,\u001b[49m\u001b[43m \u001b[49m\u001b[38;5;241;43m*\u001b[39;49m\u001b[38;5;241;43m*\u001b[39;49m\u001b[43mkwargs\u001b[49m\u001b[43m)\u001b[49m\n\u001b[0;32m    166\u001b[0m \u001b[38;5;28;01mreturn\u001b[39;00m module\u001b[38;5;241m.\u001b[39m_hf_hook\u001b[38;5;241m.\u001b[39mpost_forward(module, output)\n",
      "File \u001b[1;32m~\\anaconda3\\envs\\pt_env\\lib\\site-packages\\transformers\\models\\llama\\modeling_llama.py:623\u001b[0m, in \u001b[0;36mLlamaModel.forward\u001b[1;34m(self, input_ids, attention_mask, position_ids, past_key_values, inputs_embeds, use_cache, output_attentions, output_hidden_states, return_dict)\u001b[0m\n\u001b[0;32m    621\u001b[0m     \u001b[38;5;28;01mraise\u001b[39;00m \u001b[38;5;167;01mValueError\u001b[39;00m(\u001b[38;5;124m\"\u001b[39m\u001b[38;5;124mYou cannot specify both decoder_input_ids and decoder_inputs_embeds at the same time\u001b[39m\u001b[38;5;124m\"\u001b[39m)\n\u001b[0;32m    622\u001b[0m \u001b[38;5;28;01melif\u001b[39;00m input_ids \u001b[38;5;129;01mis\u001b[39;00m \u001b[38;5;129;01mnot\u001b[39;00m \u001b[38;5;28;01mNone\u001b[39;00m:\n\u001b[1;32m--> 623\u001b[0m     batch_size, seq_length \u001b[38;5;241m=\u001b[39m \u001b[43minput_ids\u001b[49m\u001b[38;5;241;43m.\u001b[39;49m\u001b[43mshape\u001b[49m\n\u001b[0;32m    624\u001b[0m \u001b[38;5;28;01melif\u001b[39;00m inputs_embeds \u001b[38;5;129;01mis\u001b[39;00m \u001b[38;5;129;01mnot\u001b[39;00m \u001b[38;5;28;01mNone\u001b[39;00m:\n\u001b[0;32m    625\u001b[0m     batch_size, seq_length, _ \u001b[38;5;241m=\u001b[39m inputs_embeds\u001b[38;5;241m.\u001b[39mshape\n",
      "\u001b[1;31mAttributeError\u001b[0m: 'dict' object has no attribute 'shape'"
     ]
    }
   ],
   "source": [
    "sentence_A = formatted_answer\n",
    "sentence_B = decode_sentence[0]\n",
    "tokenizer.truncation_side = \"right\" \n",
    "sentence_token = tokenizer([sentence_A,sentence_B], truncation=True,  padding = True,max_length = 128,return_tensors='pt')\n",
    "\n",
    "A_dict = {'input_ids':sentence_token['input_ids'][0],'attention_mask':sentence_token['attention_mask'][0]}\n",
    "B_dict = {'input_ids':sentence_token['input_ids'][1],'attention_mask':sentence_token['attention_mask'][1]}\n",
    "\n",
    "rewards_j = model(A_dict)\n",
    "#loss = -nn.functional.logsigmoid(rewards_j - rewards_k).mean()"
   ]
  },
  {
   "cell_type": "code",
   "execution_count": 114,
   "id": "f8ead795-cfe6-484a-ba4c-dbd42baf4e48",
   "metadata": {},
   "outputs": [],
   "source": [
    "A_dict = {'input_ids':sentence_token['input_ids'][0][None],'attention_mask':sentence_token['attention_mask'][0][None]}\n",
    "\n",
    "rewards_j = model(**A_dict)"
   ]
  },
  {
   "cell_type": "code",
   "execution_count": 118,
   "id": "17d395bc-27cc-49bf-9706-ad74988610b1",
   "metadata": {},
   "outputs": [
    {
     "data": {
      "text/plain": [
       "{'input_ids': tensor([[    0,     0,     0,     0,     0,     0,     0,     0,     0,     0,\n",
       "              0,     0,     0,     0,     0,     1,     1,   518, 25580, 29962,\n",
       "           3532, 14816, 29903,  6778,    13,  3057,   365, 26369,    13, 29966,\n",
       "            829, 14816, 29903,  6778,    13,    13,   236,   137,   174, 31274,\n",
       "          31185,   235,   186,   162,   234,   140,   156,   236,   137,   174,\n",
       "          31185,   235,   173,   179, 31419,   235,   191,   134, 31076, 30882,\n",
       "            518, 29914, 25580, 29962, 29871,   234,   140,   156,   236,   137,\n",
       "            174, 30257,   234,   144,   181, 30753, 31721, 29871,     2]]),\n",
       " 'attention_mask': tensor([[0, 0, 0, 0, 0, 0, 0, 0, 0, 0, 0, 0, 0, 0, 0, 1, 1, 1, 1, 1, 1, 1, 1, 1,\n",
       "          1, 1, 1, 1, 1, 1, 1, 1, 1, 1, 1, 1, 1, 1, 1, 1, 1, 1, 1, 1, 1, 1, 1, 1,\n",
       "          1, 1, 1, 1, 1, 1, 1, 1, 1, 1, 1, 1, 1, 1, 1, 1, 1, 1, 1, 1, 1, 1, 1, 1,\n",
       "          1, 1, 1, 1, 1, 1, 1]])}"
      ]
     },
     "execution_count": 118,
     "metadata": {},
     "output_type": "execute_result"
    }
   ],
   "source": [
    "A_dict"
   ]
  },
  {
   "cell_type": "code",
   "execution_count": 119,
   "id": "74757749-75dd-4760-848c-22c7cee226a6",
   "metadata": {},
   "outputs": [
    {
     "data": {
      "text/plain": [
       "{'input_ids': tensor([[    1,     1,   518, 25580, 29962,  3532, 14816, 29903,  6778,    13,\n",
       "          3057,   365, 26369,    13, 29966,   829, 14816, 29903,  6778,    13,\n",
       "            13,   236,   137,   174, 31274, 31185,   235,   186,   162,   234,\n",
       "           140,   156,   236,   137,   174, 31185,   235,   173,   179, 31419,\n",
       "           235,   191,   134, 31076, 30882,   518, 29914, 25580, 29962, 29871,\n",
       "           234,   140,   156,   236,   137,   174, 30257,   234,   144,   181,\n",
       "         30753, 31721, 29871,     2]]), 'attention_mask': tensor([[1, 1, 1, 1, 1, 1, 1, 1, 1, 1, 1, 1, 1, 1, 1, 1, 1, 1, 1, 1, 1, 1, 1, 1,\n",
       "         1, 1, 1, 1, 1, 1, 1, 1, 1, 1, 1, 1, 1, 1, 1, 1, 1, 1, 1, 1, 1, 1, 1, 1,\n",
       "         1, 1, 1, 1, 1, 1, 1, 1, 1, 1, 1, 1, 1, 1, 1, 1]])}"
      ]
     },
     "execution_count": 119,
     "metadata": {},
     "output_type": "execute_result"
    }
   ],
   "source": [
    "j"
   ]
  },
  {
   "cell_type": "code",
   "execution_count": 115,
   "id": "fdb5be44-3869-4b15-947c-cd419336813d",
   "metadata": {},
   "outputs": [
    {
     "data": {
      "text/plain": [
       "CausalLMOutputWithPast(loss={'logits': tensor([[[-3.1270, -1.4300,  1.4025,  ..., -3.0038, -3.4245, -2.3205],\n",
       "         [-3.2038, -1.5083,  1.4185,  ..., -3.0303, -3.4934, -2.3731],\n",
       "         [-3.1429, -1.4212,  1.4134,  ..., -2.9934, -3.4374, -2.3246],\n",
       "         ...,\n",
       "         [-8.0971, -0.2395,  5.6717,  ...,  0.6724, -8.0394, -7.3654],\n",
       "         [-5.0346,  1.4809, 13.4588,  ...,  3.1103, -5.6519, -3.9508],\n",
       "         [-4.2991, -4.6206, 25.6700,  ..., -3.8327, -6.2832, -5.0528]]],\n",
       "       grad_fn=<ToCopyBackward0>)}, logits=tensor([[[-3.1270, -1.4300,  1.4025,  ..., -3.0038, -3.4245, -2.3205],\n",
       "         [-3.2038, -1.5083,  1.4185,  ..., -3.0303, -3.4934, -2.3731],\n",
       "         [-3.1429, -1.4212,  1.4134,  ..., -2.9934, -3.4374, -2.3246],\n",
       "         ...,\n",
       "         [-8.0971, -0.2395,  5.6717,  ...,  0.6724, -8.0394, -7.3654],\n",
       "         [-5.0346,  1.4809, 13.4588,  ...,  3.1103, -5.6519, -3.9508],\n",
       "         [-4.2991, -4.6206, 25.6700,  ..., -3.8327, -6.2832, -5.0528]]],\n",
       "       grad_fn=<ToCopyBackward0>), past_key_values=None, hidden_states=None, attentions=None)"
      ]
     },
     "execution_count": 115,
     "metadata": {},
     "output_type": "execute_result"
    }
   ],
   "source": [
    "rewards_j"
   ]
  },
  {
   "cell_type": "code",
   "execution_count": 116,
   "id": "30125d78-bd2f-4733-8a82-180f5a5fd6f7",
   "metadata": {},
   "outputs": [
    {
     "data": {
      "text/plain": [
       "CausalLMOutputWithPast(loss={'logits': tensor([[[-13.1649,  -8.6807,   1.8199,  ...,  -3.7140,  -7.7171,  -8.0970],\n",
       "         [-12.6191,  -8.3648,   2.1562,  ...,  -3.4286,  -7.4037,  -7.7408],\n",
       "         [ -9.7628,  -3.3489,  -1.9629,  ...,  -2.2082,  -7.5787,  -3.5228],\n",
       "         ...,\n",
       "         [ -8.1117,  -0.2488,   5.8496,  ...,   0.8617,  -8.0798,  -7.3269],\n",
       "         [ -5.1161,   1.5058,  13.5493,  ...,   3.2191,  -5.6692,  -4.0593],\n",
       "         [ -4.3173,  -4.1605,  25.6111,  ...,  -3.6623,  -6.3189,  -5.1465]]],\n",
       "       grad_fn=<ToCopyBackward0>)}, logits=tensor([[[-13.1649,  -8.6807,   1.8199,  ...,  -3.7140,  -7.7171,  -8.0970],\n",
       "         [-12.6191,  -8.3648,   2.1562,  ...,  -3.4286,  -7.4037,  -7.7408],\n",
       "         [ -9.7628,  -3.3489,  -1.9629,  ...,  -2.2082,  -7.5787,  -3.5228],\n",
       "         ...,\n",
       "         [ -8.1117,  -0.2488,   5.8496,  ...,   0.8617,  -8.0798,  -7.3269],\n",
       "         [ -5.1161,   1.5058,  13.5493,  ...,   3.2191,  -5.6692,  -4.0593],\n",
       "         [ -4.3173,  -4.1605,  25.6111,  ...,  -3.6623,  -6.3189,  -5.1465]]],\n",
       "       grad_fn=<ToCopyBackward0>), past_key_values=None, hidden_states=None, attentions=None)"
      ]
     },
     "execution_count": 116,
     "metadata": {},
     "output_type": "execute_result"
    }
   ],
   "source": [
    "j = tokenizer(sentence_A, truncation=True,  padding = True,max_length = 128,return_tensors='pt')\n",
    "rewards_j = model(**j)\n",
    "rewards_j"
   ]
  },
  {
   "cell_type": "code",
   "execution_count": 89,
   "id": "8b1884a7-cdae-4fc9-92f4-551b0675ac4e",
   "metadata": {},
   "outputs": [],
   "source": [
    "sentence_token = tokenizer([sentence_A,sentence_B], truncation=True,  padding = True,max_length = 128,return_tensors='pt')\n"
   ]
  },
  {
   "cell_type": "code",
   "execution_count": 92,
   "id": "5bc3ed66-3200-4663-a03e-e2e759b168e5",
   "metadata": {},
   "outputs": [
    {
     "data": {
      "text/plain": [
       "{'input_ids': tensor([[    0,     0,     0,     0,     0,     0,     0,     0,     0,     0,\n",
       "             0,     0,     0,     0,     0,     1,     1,   518, 25580, 29962,\n",
       "          3532, 14816, 29903,  6778,    13,  3057,   365, 26369,    13, 29966,\n",
       "           829, 14816, 29903,  6778,    13,    13,   236,   137,   174, 31274,\n",
       "         31185,   235,   186,   162,   234,   140,   156,   236,   137,   174,\n",
       "         31185,   235,   173,   179, 31419,   235,   191,   134, 31076, 30882,\n",
       "           518, 29914, 25580, 29962, 29871,   234,   140,   156,   236,   137,\n",
       "           174, 30257,   234,   144,   181, 30753, 31721, 29871,     2],\n",
       "        [    1,     1,     1, 29871,   518, 25580, 29962,  3532, 14816, 29903,\n",
       "          6778,    13,  3057,   365, 26369,    13, 29966,   829, 14816, 29903,\n",
       "          6778,    13,    13,   236,   137,   174, 31274, 31185,   235,   186,\n",
       "           162,   234,   140,   156,   236,   137,   174, 31185,   235,   173,\n",
       "           179, 31419,   235,   191,   134, 31076, 30882,   518, 29914, 25580,\n",
       "         29962, 29871,   234,   152,   185, 31516,   236,   137,   174, 31274,\n",
       "         31185, 31076,   232,   152,   141, 29871,   236,   137,   174, 30486,\n",
       "           232,   193,   139, 30417,   236,   143,   165, 29871,     2]]), 'attention_mask': tensor([[0, 0, 0, 0, 0, 0, 0, 0, 0, 0, 0, 0, 0, 0, 0, 1, 1, 1, 1, 1, 1, 1, 1, 1,\n",
       "         1, 1, 1, 1, 1, 1, 1, 1, 1, 1, 1, 1, 1, 1, 1, 1, 1, 1, 1, 1, 1, 1, 1, 1,\n",
       "         1, 1, 1, 1, 1, 1, 1, 1, 1, 1, 1, 1, 1, 1, 1, 1, 1, 1, 1, 1, 1, 1, 1, 1,\n",
       "         1, 1, 1, 1, 1, 1, 1],\n",
       "        [1, 1, 1, 1, 1, 1, 1, 1, 1, 1, 1, 1, 1, 1, 1, 1, 1, 1, 1, 1, 1, 1, 1, 1,\n",
       "         1, 1, 1, 1, 1, 1, 1, 1, 1, 1, 1, 1, 1, 1, 1, 1, 1, 1, 1, 1, 1, 1, 1, 1,\n",
       "         1, 1, 1, 1, 1, 1, 1, 1, 1, 1, 1, 1, 1, 1, 1, 1, 1, 1, 1, 1, 1, 1, 1, 1,\n",
       "         1, 1, 1, 1, 1, 1, 1]])}"
      ]
     },
     "execution_count": 92,
     "metadata": {},
     "output_type": "execute_result"
    }
   ],
   "source": [
    "sentence_token"
   ]
  },
  {
   "cell_type": "code",
   "execution_count": null,
   "id": "c00ff41a-fe7c-4644-81ef-ab3e477a50fd",
   "metadata": {},
   "outputs": [],
   "source": []
  },
  {
   "cell_type": "code",
   "execution_count": 93,
   "id": "153787e0-c65f-40c2-879b-19a0ac8c16cd",
   "metadata": {},
   "outputs": [
    {
     "data": {
      "text/plain": [
       "(tensor([    0,     0,     0,     0,     0,     0,     0,     0,     0,     0,\n",
       "             0,     0,     0,     0,     0,     1,     1,   518, 25580, 29962,\n",
       "          3532, 14816, 29903,  6778,    13,  3057,   365, 26369,    13, 29966,\n",
       "           829, 14816, 29903,  6778,    13,    13,   236,   137,   174, 31274,\n",
       "         31185,   235,   186,   162,   234,   140,   156,   236,   137,   174,\n",
       "         31185,   235,   173,   179, 31419,   235,   191,   134, 31076, 30882,\n",
       "           518, 29914, 25580, 29962, 29871,   234,   140,   156,   236,   137,\n",
       "           174, 30257,   234,   144,   181, 30753, 31721, 29871,     2]),\n",
       " tensor([0, 0, 0, 0, 0, 0, 0, 0, 0, 0, 0, 0, 0, 0, 0, 1, 1, 1, 1, 1, 1, 1, 1, 1,\n",
       "         1, 1, 1, 1, 1, 1, 1, 1, 1, 1, 1, 1, 1, 1, 1, 1, 1, 1, 1, 1, 1, 1, 1, 1,\n",
       "         1, 1, 1, 1, 1, 1, 1, 1, 1, 1, 1, 1, 1, 1, 1, 1, 1, 1, 1, 1, 1, 1, 1, 1,\n",
       "         1, 1, 1, 1, 1, 1, 1]))"
      ]
     },
     "execution_count": 93,
     "metadata": {},
     "output_type": "execute_result"
    }
   ],
   "source": [
    "sentence_token['input_ids'][0],sentence_token['attention_mask'][0]"
   ]
  },
  {
   "cell_type": "code",
   "execution_count": 82,
   "id": "a25bcba5-4f2a-481b-a09f-291998e6c74f",
   "metadata": {},
   "outputs": [
    {
     "data": {
      "text/plain": [
       "'<s>[INST] <<SYS>>\\nTest LLM\\n<</SYS>>\\n\\n醫學系跟牙醫系誰比較好？ [/INST] 牙醫大獲全勝 </s><s><s> [INST] <<SYS>>\\nTest LLM\\n<</SYS>>\\n\\n醫學系跟牙醫系誰比較好？ [/INST] 當然醫學系好啊 醫生很有錢 </s>'"
      ]
     },
     "execution_count": 82,
     "metadata": {},
     "output_type": "execute_result"
    }
   ],
   "source": [
    "sentence_A+sentence_B"
   ]
  },
  {
   "cell_type": "code",
   "execution_count": null,
   "id": "9dcc772f-dd87-4864-b1b0-ac0bb58f8207",
   "metadata": {},
   "outputs": [],
   "source": []
  }
 ],
 "metadata": {
  "kernelspec": {
   "display_name": "Python 3 (ipykernel)",
   "language": "python",
   "name": "python3"
  },
  "language_info": {
   "codemirror_mode": {
    "name": "ipython",
    "version": 3
   },
   "file_extension": ".py",
   "mimetype": "text/x-python",
   "name": "python",
   "nbconvert_exporter": "python",
   "pygments_lexer": "ipython3",
   "version": "3.10.12"
  }
 },
 "nbformat": 4,
 "nbformat_minor": 5
}
